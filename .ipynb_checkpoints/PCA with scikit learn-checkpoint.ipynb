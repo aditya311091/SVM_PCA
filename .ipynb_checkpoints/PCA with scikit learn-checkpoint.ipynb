{
 "cells": [
  {
   "cell_type": "markdown",
   "metadata": {},
   "source": [
    "Here I am going to apply Principal component analysis on the given dataset using Scikit-learn and find out the dimensions(also known as components) with maximum variance(where the data is spread out).Features with little variance in the data are then projected into new lower dimension. Then the models are  trained on transformed dataset to apply machine learning models.Then I have applied  Random forest Regressor on old and the transformed datasets and compared them.\n",
    "If you want to know the basic concept behind Principal Component Analysis check this out.\n",
    "(https://www.kaggle.com/nirajvermafcb/d/ludobenistant/hr-analytics/principal-component-analysis-explained)"
   ]
  },
  {
   "cell_type": "code",
   "execution_count": 1,
   "metadata": {
    "collapsed": false
   },
   "outputs": [
    {
     "name": "stdout",
     "output_type": "stream",
     "text": [
      "data.csv\n",
      "\n"
     ]
    }
   ],
   "source": [
    "# This Python 3 environment comes with many helpful analytics libraries installed\n",
    "# It is defined by the kaggle/python docker image: https://github.com/kaggle/docker-python\n",
    "# For example, here's several helpful packages to load in \n",
    "\n",
    "import numpy as np # linear algebra\n",
    "import pandas as pd # data processing, CSV file I/O (e.g. pd.read_csv)\n",
    "\n",
    "# Input data files are available in the \"../input/\" directory.\n",
    "# For example, running this (by clicking run or pressing Shift+Enter) will list the files in the input directory\n",
    "\n",
    "from subprocess import check_output\n",
    "print(check_output([\"ls\", \"../input\"]).decode(\"utf8\"))\n",
    "\n",
    "# Any results you write to the current directory are saved as output."
   ]
  },
  {
   "cell_type": "code",
   "execution_count": 2,
   "metadata": {
    "collapsed": true
   },
   "outputs": [],
   "source": [
    "import numpy as np # linear algebra\n",
    "import pandas as pd # data processing, CSV file I/O (e.g. pd.read_csv)\n",
    "import matplotlib.pyplot as plt\n",
    "import seaborn as sns\n",
    "%matplotlib inline"
   ]
  },
  {
   "cell_type": "code",
   "execution_count": 3,
   "metadata": {
    "collapsed": false
   },
   "outputs": [
    {
     "data": {
      "text/html": [
       "<div>\n",
       "<table border=\"1\" class=\"dataframe\">\n",
       "  <thead>\n",
       "    <tr style=\"text-align: right;\">\n",
       "      <th></th>\n",
       "      <th>number_people</th>\n",
       "      <th>timestamp</th>\n",
       "      <th>day_of_week</th>\n",
       "      <th>is_weekend</th>\n",
       "      <th>is_holiday</th>\n",
       "      <th>apparent_temperature</th>\n",
       "      <th>temperature</th>\n",
       "      <th>is_start_of_semester</th>\n",
       "    </tr>\n",
       "  </thead>\n",
       "  <tbody>\n",
       "    <tr>\n",
       "      <th>0</th>\n",
       "      <td>0</td>\n",
       "      <td>11</td>\n",
       "      <td>5</td>\n",
       "      <td>1</td>\n",
       "      <td>0</td>\n",
       "      <td>63.0</td>\n",
       "      <td>63.0</td>\n",
       "      <td>0</td>\n",
       "    </tr>\n",
       "    <tr>\n",
       "      <th>1</th>\n",
       "      <td>0</td>\n",
       "      <td>906</td>\n",
       "      <td>5</td>\n",
       "      <td>1</td>\n",
       "      <td>0</td>\n",
       "      <td>63.0</td>\n",
       "      <td>63.0</td>\n",
       "      <td>0</td>\n",
       "    </tr>\n",
       "    <tr>\n",
       "      <th>2</th>\n",
       "      <td>0</td>\n",
       "      <td>1207</td>\n",
       "      <td>5</td>\n",
       "      <td>1</td>\n",
       "      <td>0</td>\n",
       "      <td>63.0</td>\n",
       "      <td>63.0</td>\n",
       "      <td>0</td>\n",
       "    </tr>\n",
       "    <tr>\n",
       "      <th>3</th>\n",
       "      <td>0</td>\n",
       "      <td>1507</td>\n",
       "      <td>5</td>\n",
       "      <td>1</td>\n",
       "      <td>0</td>\n",
       "      <td>63.0</td>\n",
       "      <td>63.0</td>\n",
       "      <td>0</td>\n",
       "    </tr>\n",
       "    <tr>\n",
       "      <th>4</th>\n",
       "      <td>0</td>\n",
       "      <td>1808</td>\n",
       "      <td>5</td>\n",
       "      <td>1</td>\n",
       "      <td>0</td>\n",
       "      <td>63.0</td>\n",
       "      <td>63.0</td>\n",
       "      <td>0</td>\n",
       "    </tr>\n",
       "  </tbody>\n",
       "</table>\n",
       "</div>"
      ],
      "text/plain": [
       "   number_people  timestamp  day_of_week  is_weekend  is_holiday  \\\n",
       "0              0         11            5           1           0   \n",
       "1              0        906            5           1           0   \n",
       "2              0       1207            5           1           0   \n",
       "3              0       1507            5           1           0   \n",
       "4              0       1808            5           1           0   \n",
       "\n",
       "   apparent_temperature  temperature  is_start_of_semester  \n",
       "0                  63.0         63.0                     0  \n",
       "1                  63.0         63.0                     0  \n",
       "2                  63.0         63.0                     0  \n",
       "3                  63.0         63.0                     0  \n",
       "4                  63.0         63.0                     0  "
      ]
     },
     "execution_count": 3,
     "metadata": {},
     "output_type": "execute_result"
    }
   ],
   "source": [
    "df=pd.read_csv('../input/data.csv') #Replace it with your path where the data file is stored\n",
    "df.head()"
   ]
  },
  {
   "cell_type": "code",
   "execution_count": 4,
   "metadata": {
    "collapsed": false
   },
   "outputs": [
    {
     "data": {
      "text/html": [
       "<div>\n",
       "<table border=\"1\" class=\"dataframe\">\n",
       "  <thead>\n",
       "    <tr style=\"text-align: right;\">\n",
       "      <th></th>\n",
       "      <th>number_people</th>\n",
       "      <th>timestamp</th>\n",
       "      <th>day_of_week</th>\n",
       "      <th>is_weekend</th>\n",
       "      <th>is_holiday</th>\n",
       "      <th>apparent_temperature</th>\n",
       "      <th>temperature</th>\n",
       "      <th>is_start_of_semester</th>\n",
       "    </tr>\n",
       "  </thead>\n",
       "  <tbody>\n",
       "    <tr>\n",
       "      <th>count</th>\n",
       "      <td>26066.000000</td>\n",
       "      <td>26066.000000</td>\n",
       "      <td>26066.000000</td>\n",
       "      <td>26066.000000</td>\n",
       "      <td>26066.000000</td>\n",
       "      <td>26066.000000</td>\n",
       "      <td>26066.000000</td>\n",
       "      <td>26066.000000</td>\n",
       "    </tr>\n",
       "    <tr>\n",
       "      <th>mean</th>\n",
       "      <td>41.055743</td>\n",
       "      <td>49427.729801</td>\n",
       "      <td>3.016458</td>\n",
       "      <td>0.291759</td>\n",
       "      <td>0.011509</td>\n",
       "      <td>59.013831</td>\n",
       "      <td>59.160459</td>\n",
       "      <td>0.100169</td>\n",
       "    </tr>\n",
       "    <tr>\n",
       "      <th>std</th>\n",
       "      <td>24.768592</td>\n",
       "      <td>22472.238011</td>\n",
       "      <td>2.005325</td>\n",
       "      <td>0.454581</td>\n",
       "      <td>0.106664</td>\n",
       "      <td>6.951850</td>\n",
       "      <td>6.661657</td>\n",
       "      <td>0.300231</td>\n",
       "    </tr>\n",
       "    <tr>\n",
       "      <th>min</th>\n",
       "      <td>0.000000</td>\n",
       "      <td>9.000000</td>\n",
       "      <td>0.000000</td>\n",
       "      <td>0.000000</td>\n",
       "      <td>0.000000</td>\n",
       "      <td>32.320000</td>\n",
       "      <td>38.140000</td>\n",
       "      <td>0.000000</td>\n",
       "    </tr>\n",
       "    <tr>\n",
       "      <th>25%</th>\n",
       "      <td>24.000000</td>\n",
       "      <td>31818.000000</td>\n",
       "      <td>1.000000</td>\n",
       "      <td>0.000000</td>\n",
       "      <td>0.000000</td>\n",
       "      <td>54.550000</td>\n",
       "      <td>54.550000</td>\n",
       "      <td>0.000000</td>\n",
       "    </tr>\n",
       "    <tr>\n",
       "      <th>50%</th>\n",
       "      <td>43.000000</td>\n",
       "      <td>49824.500000</td>\n",
       "      <td>3.000000</td>\n",
       "      <td>0.000000</td>\n",
       "      <td>0.000000</td>\n",
       "      <td>58.800000</td>\n",
       "      <td>58.800000</td>\n",
       "      <td>0.000000</td>\n",
       "    </tr>\n",
       "    <tr>\n",
       "      <th>75%</th>\n",
       "      <td>58.000000</td>\n",
       "      <td>68413.000000</td>\n",
       "      <td>5.000000</td>\n",
       "      <td>1.000000</td>\n",
       "      <td>0.000000</td>\n",
       "      <td>63.530000</td>\n",
       "      <td>63.530000</td>\n",
       "      <td>0.000000</td>\n",
       "    </tr>\n",
       "    <tr>\n",
       "      <th>max</th>\n",
       "      <td>138.000000</td>\n",
       "      <td>86120.000000</td>\n",
       "      <td>6.000000</td>\n",
       "      <td>1.000000</td>\n",
       "      <td>1.000000</td>\n",
       "      <td>87.170000</td>\n",
       "      <td>87.170000</td>\n",
       "      <td>1.000000</td>\n",
       "    </tr>\n",
       "  </tbody>\n",
       "</table>\n",
       "</div>"
      ],
      "text/plain": [
       "       number_people     timestamp   day_of_week    is_weekend    is_holiday  \\\n",
       "count   26066.000000  26066.000000  26066.000000  26066.000000  26066.000000   \n",
       "mean       41.055743  49427.729801      3.016458      0.291759      0.011509   \n",
       "std        24.768592  22472.238011      2.005325      0.454581      0.106664   \n",
       "min         0.000000      9.000000      0.000000      0.000000      0.000000   \n",
       "25%        24.000000  31818.000000      1.000000      0.000000      0.000000   \n",
       "50%        43.000000  49824.500000      3.000000      0.000000      0.000000   \n",
       "75%        58.000000  68413.000000      5.000000      1.000000      0.000000   \n",
       "max       138.000000  86120.000000      6.000000      1.000000      1.000000   \n",
       "\n",
       "       apparent_temperature   temperature  is_start_of_semester  \n",
       "count          26066.000000  26066.000000          26066.000000  \n",
       "mean              59.013831     59.160459              0.100169  \n",
       "std                6.951850      6.661657              0.300231  \n",
       "min               32.320000     38.140000              0.000000  \n",
       "25%               54.550000     54.550000              0.000000  \n",
       "50%               58.800000     58.800000              0.000000  \n",
       "75%               63.530000     63.530000              0.000000  \n",
       "max               87.170000     87.170000              1.000000  "
      ]
     },
     "execution_count": 4,
     "metadata": {},
     "output_type": "execute_result"
    }
   ],
   "source": [
    "df.describe()"
   ]
  },
  {
   "cell_type": "code",
   "execution_count": 5,
   "metadata": {
    "collapsed": false
   },
   "outputs": [
    {
     "data": {
      "text/html": [
       "<div>\n",
       "<table border=\"1\" class=\"dataframe\">\n",
       "  <thead>\n",
       "    <tr style=\"text-align: right;\">\n",
       "      <th></th>\n",
       "      <th>number_people</th>\n",
       "      <th>timestamp</th>\n",
       "      <th>day_of_week</th>\n",
       "      <th>is_weekend</th>\n",
       "      <th>is_holiday</th>\n",
       "      <th>apparent_temperature</th>\n",
       "      <th>temperature</th>\n",
       "      <th>is_start_of_semester</th>\n",
       "    </tr>\n",
       "  </thead>\n",
       "  <tbody>\n",
       "    <tr>\n",
       "      <th>number_people</th>\n",
       "      <td>1.000000</td>\n",
       "      <td>0.516721</td>\n",
       "      <td>-0.198662</td>\n",
       "      <td>-0.212955</td>\n",
       "      <td>-0.023754</td>\n",
       "      <td>0.371589</td>\n",
       "      <td>0.365247</td>\n",
       "      <td>0.188743</td>\n",
       "    </tr>\n",
       "    <tr>\n",
       "      <th>timestamp</th>\n",
       "      <td>0.516721</td>\n",
       "      <td>1.000000</td>\n",
       "      <td>0.002188</td>\n",
       "      <td>0.005774</td>\n",
       "      <td>0.000015</td>\n",
       "      <td>0.135663</td>\n",
       "      <td>0.134209</td>\n",
       "      <td>-0.008029</td>\n",
       "    </tr>\n",
       "    <tr>\n",
       "      <th>day_of_week</th>\n",
       "      <td>-0.198662</td>\n",
       "      <td>0.002188</td>\n",
       "      <td>1.000000</td>\n",
       "      <td>0.795182</td>\n",
       "      <td>-0.090568</td>\n",
       "      <td>-0.011553</td>\n",
       "      <td>-0.011030</td>\n",
       "      <td>0.005801</td>\n",
       "    </tr>\n",
       "    <tr>\n",
       "      <th>is_weekend</th>\n",
       "      <td>-0.212955</td>\n",
       "      <td>0.005774</td>\n",
       "      <td>0.795182</td>\n",
       "      <td>1.000000</td>\n",
       "      <td>-0.069256</td>\n",
       "      <td>0.003095</td>\n",
       "      <td>0.003079</td>\n",
       "      <td>0.003434</td>\n",
       "    </tr>\n",
       "    <tr>\n",
       "      <th>is_holiday</th>\n",
       "      <td>-0.023754</td>\n",
       "      <td>0.000015</td>\n",
       "      <td>-0.090568</td>\n",
       "      <td>-0.069256</td>\n",
       "      <td>1.000000</td>\n",
       "      <td>-0.068055</td>\n",
       "      <td>-0.059206</td>\n",
       "      <td>0.083802</td>\n",
       "    </tr>\n",
       "    <tr>\n",
       "      <th>apparent_temperature</th>\n",
       "      <td>0.371589</td>\n",
       "      <td>0.135663</td>\n",
       "      <td>-0.011553</td>\n",
       "      <td>0.003095</td>\n",
       "      <td>-0.068055</td>\n",
       "      <td>1.000000</td>\n",
       "      <td>0.995839</td>\n",
       "      <td>0.092622</td>\n",
       "    </tr>\n",
       "    <tr>\n",
       "      <th>temperature</th>\n",
       "      <td>0.365247</td>\n",
       "      <td>0.134209</td>\n",
       "      <td>-0.011030</td>\n",
       "      <td>0.003079</td>\n",
       "      <td>-0.059206</td>\n",
       "      <td>0.995839</td>\n",
       "      <td>1.000000</td>\n",
       "      <td>0.092255</td>\n",
       "    </tr>\n",
       "    <tr>\n",
       "      <th>is_start_of_semester</th>\n",
       "      <td>0.188743</td>\n",
       "      <td>-0.008029</td>\n",
       "      <td>0.005801</td>\n",
       "      <td>0.003434</td>\n",
       "      <td>0.083802</td>\n",
       "      <td>0.092622</td>\n",
       "      <td>0.092255</td>\n",
       "      <td>1.000000</td>\n",
       "    </tr>\n",
       "  </tbody>\n",
       "</table>\n",
       "</div>"
      ],
      "text/plain": [
       "                      number_people  timestamp  day_of_week  is_weekend  \\\n",
       "number_people              1.000000   0.516721    -0.198662   -0.212955   \n",
       "timestamp                  0.516721   1.000000     0.002188    0.005774   \n",
       "day_of_week               -0.198662   0.002188     1.000000    0.795182   \n",
       "is_weekend                -0.212955   0.005774     0.795182    1.000000   \n",
       "is_holiday                -0.023754   0.000015    -0.090568   -0.069256   \n",
       "apparent_temperature       0.371589   0.135663    -0.011553    0.003095   \n",
       "temperature                0.365247   0.134209    -0.011030    0.003079   \n",
       "is_start_of_semester       0.188743  -0.008029     0.005801    0.003434   \n",
       "\n",
       "                      is_holiday  apparent_temperature  temperature  \\\n",
       "number_people          -0.023754              0.371589     0.365247   \n",
       "timestamp               0.000015              0.135663     0.134209   \n",
       "day_of_week            -0.090568             -0.011553    -0.011030   \n",
       "is_weekend             -0.069256              0.003095     0.003079   \n",
       "is_holiday              1.000000             -0.068055    -0.059206   \n",
       "apparent_temperature   -0.068055              1.000000     0.995839   \n",
       "temperature            -0.059206              0.995839     1.000000   \n",
       "is_start_of_semester    0.083802              0.092622     0.092255   \n",
       "\n",
       "                      is_start_of_semester  \n",
       "number_people                     0.188743  \n",
       "timestamp                        -0.008029  \n",
       "day_of_week                       0.005801  \n",
       "is_weekend                        0.003434  \n",
       "is_holiday                        0.083802  \n",
       "apparent_temperature              0.092622  \n",
       "temperature                       0.092255  \n",
       "is_start_of_semester              1.000000  "
      ]
     },
     "execution_count": 5,
     "metadata": {},
     "output_type": "execute_result"
    }
   ],
   "source": [
    "df.corr()"
   ]
  },
  {
   "cell_type": "markdown",
   "metadata": {},
   "source": [
    "Let us find if there is any relationship between temperature and apparent_temperature"
   ]
  },
  {
   "cell_type": "code",
   "execution_count": 6,
   "metadata": {
    "collapsed": false
   },
   "outputs": [
    {
     "data": {
      "text/plain": [
       "<matplotlib.collections.PathCollection at 0x7fd355a37da0>"
      ]
     },
     "execution_count": 6,
     "metadata": {},
     "output_type": "execute_result"
    },
    {
     "data": {
      "image/png": "[encoded data removed]",
      "text/plain": [
       "<matplotlib.figure.Figure at 0x7fd3559b5198>"
      ]
     },
     "metadata": {},
     "output_type": "display_data"
    }
   ],
   "source": [
    "x=df['temperature']\n",
    "y=df['apparent_temperature']\n",
    "colors=('r','b')\n",
    "plt.xlabel('Temperature')\n",
    "plt.ylabel('Apparent_temperature')\n",
    "plt.scatter(x,y,c=colors)"
   ]
  },
  {
   "cell_type": "markdown",
   "metadata": {},
   "source": [
    "The temperture given here is in fahrenheit.We will convert it into Celsius using the formula \n",
    "**Celsius=(Fahrenheit-32)* (5/9)**"
   ]
  },
  {
   "cell_type": "code",
   "execution_count": 7,
   "metadata": {
    "collapsed": true
   },
   "outputs": [],
   "source": [
    "Fahrenheit=df['temperature']"
   ]
  },
  {
   "cell_type": "markdown",
   "metadata": {},
   "source": [
    "Converting it into the list so we can apply lambda function"
   ]
  },
  {
   "cell_type": "code",
   "execution_count": 8,
   "metadata": {
    "collapsed": true
   },
   "outputs": [],
   "source": [
    "F=Fahrenheit.tolist()"
   ]
  },
  {
   "cell_type": "markdown",
   "metadata": {},
   "source": [
    "Applying Lambda function"
   ]
  },
  {
   "cell_type": "code",
   "execution_count": 9,
   "metadata": {
    "collapsed": true
   },
   "outputs": [],
   "source": [
    "C= map(lambda x: (float(5)/9)*(x-32),F)\n",
    "Celsius=(list(C))"
   ]
  },
  {
   "cell_type": "markdown",
   "metadata": {},
   "source": [
    "Converting list to series"
   ]
  },
  {
   "cell_type": "code",
   "execution_count": 10,
   "metadata": {
    "collapsed": true
   },
   "outputs": [],
   "source": [
    "temperature_celsius=pd.Series(Celsius)"
   ]
  },
  {
   "cell_type": "markdown",
   "metadata": {},
   "source": [
    "Applying the series to temperature column"
   ]
  },
  {
   "cell_type": "code",
   "execution_count": 11,
   "metadata": {
    "collapsed": false
   },
   "outputs": [
    {
     "data": {
      "text/html": [
       "<div>\n",
       "<table border=\"1\" class=\"dataframe\">\n",
       "  <thead>\n",
       "    <tr style=\"text-align: right;\">\n",
       "      <th></th>\n",
       "      <th>number_people</th>\n",
       "      <th>timestamp</th>\n",
       "      <th>day_of_week</th>\n",
       "      <th>is_weekend</th>\n",
       "      <th>is_holiday</th>\n",
       "      <th>apparent_temperature</th>\n",
       "      <th>temperature</th>\n",
       "      <th>is_start_of_semester</th>\n",
       "    </tr>\n",
       "  </thead>\n",
       "  <tbody>\n",
       "    <tr>\n",
       "      <th>0</th>\n",
       "      <td>0</td>\n",
       "      <td>11</td>\n",
       "      <td>5</td>\n",
       "      <td>1</td>\n",
       "      <td>0</td>\n",
       "      <td>63.0</td>\n",
       "      <td>17.222222</td>\n",
       "      <td>0</td>\n",
       "    </tr>\n",
       "    <tr>\n",
       "      <th>1</th>\n",
       "      <td>0</td>\n",
       "      <td>906</td>\n",
       "      <td>5</td>\n",
       "      <td>1</td>\n",
       "      <td>0</td>\n",
       "      <td>63.0</td>\n",
       "      <td>17.222222</td>\n",
       "      <td>0</td>\n",
       "    </tr>\n",
       "    <tr>\n",
       "      <th>2</th>\n",
       "      <td>0</td>\n",
       "      <td>1207</td>\n",
       "      <td>5</td>\n",
       "      <td>1</td>\n",
       "      <td>0</td>\n",
       "      <td>63.0</td>\n",
       "      <td>17.222222</td>\n",
       "      <td>0</td>\n",
       "    </tr>\n",
       "    <tr>\n",
       "      <th>3</th>\n",
       "      <td>0</td>\n",
       "      <td>1507</td>\n",
       "      <td>5</td>\n",
       "      <td>1</td>\n",
       "      <td>0</td>\n",
       "      <td>63.0</td>\n",
       "      <td>17.222222</td>\n",
       "      <td>0</td>\n",
       "    </tr>\n",
       "    <tr>\n",
       "      <th>4</th>\n",
       "      <td>0</td>\n",
       "      <td>1808</td>\n",
       "      <td>5</td>\n",
       "      <td>1</td>\n",
       "      <td>0</td>\n",
       "      <td>63.0</td>\n",
       "      <td>17.222222</td>\n",
       "      <td>0</td>\n",
       "    </tr>\n",
       "  </tbody>\n",
       "</table>\n",
       "</div>"
      ],
      "text/plain": [
       "   number_people  timestamp  day_of_week  is_weekend  is_holiday  \\\n",
       "0              0         11            5           1           0   \n",
       "1              0        906            5           1           0   \n",
       "2              0       1207            5           1           0   \n",
       "3              0       1507            5           1           0   \n",
       "4              0       1808            5           1           0   \n",
       "\n",
       "   apparent_temperature  temperature  is_start_of_semester  \n",
       "0                  63.0    17.222222                     0  \n",
       "1                  63.0    17.222222                     0  \n",
       "2                  63.0    17.222222                     0  \n",
       "3                  63.0    17.222222                     0  \n",
       "4                  63.0    17.222222                     0  "
      ]
     },
     "execution_count": 11,
     "metadata": {},
     "output_type": "execute_result"
    }
   ],
   "source": [
    "df['temperature']= temperature_celsius\n",
    "df['temperature']\n",
    "df.head()"
   ]
  },
  {
   "cell_type": "markdown",
   "metadata": {},
   "source": [
    "Thus we have converted the temperature column from fahrenheit to degree celsius.Similarly we are now converting apparent_temperature to degree celsius."
   ]
  },
  {
   "cell_type": "code",
   "execution_count": 12,
   "metadata": {
    "collapsed": false
   },
   "outputs": [
    {
     "data": {
      "text/plain": [
       "Series([], dtype: float64)"
      ]
     },
     "execution_count": 12,
     "metadata": {},
     "output_type": "execute_result"
    }
   ],
   "source": [
    "at_fahrenheit=df['apparent_temperature']\n",
    "at_F=at_fahrenheit.tolist()\n",
    "at_C= map(lambda x: (float(5)/9)*(x-32),at_F)\n",
    "at_Celsius=(list(C))\n",
    "at_celsius=pd.Series(at_Celsius)\n",
    "at_celsius"
   ]
  },
  {
   "cell_type": "code",
   "execution_count": 13,
   "metadata": {
    "collapsed": false
   },
   "outputs": [
    {
     "name": "stdout",
     "output_type": "stream",
     "text": [
      "Series([], dtype: float64)\n"
     ]
    }
   ],
   "source": [
    "apparent_temperature_celsius=pd.Series(at_Celsius)\n",
    "print(apparent_temperature_celsius)"
   ]
  },
  {
   "cell_type": "code",
   "execution_count": 14,
   "metadata": {
    "collapsed": false
   },
   "outputs": [
    {
     "data": {
      "text/html": [
       "<div>\n",
       "<table border=\"1\" class=\"dataframe\">\n",
       "  <thead>\n",
       "    <tr style=\"text-align: right;\">\n",
       "      <th></th>\n",
       "      <th>number_people</th>\n",
       "      <th>timestamp</th>\n",
       "      <th>day_of_week</th>\n",
       "      <th>is_weekend</th>\n",
       "      <th>is_holiday</th>\n",
       "      <th>apparent_temperature</th>\n",
       "      <th>temperature</th>\n",
       "      <th>is_start_of_semester</th>\n",
       "    </tr>\n",
       "  </thead>\n",
       "  <tbody>\n",
       "    <tr>\n",
       "      <th>0</th>\n",
       "      <td>0</td>\n",
       "      <td>11</td>\n",
       "      <td>5</td>\n",
       "      <td>1</td>\n",
       "      <td>0</td>\n",
       "      <td>17.222222</td>\n",
       "      <td>17.222222</td>\n",
       "      <td>0</td>\n",
       "    </tr>\n",
       "    <tr>\n",
       "      <th>1</th>\n",
       "      <td>0</td>\n",
       "      <td>906</td>\n",
       "      <td>5</td>\n",
       "      <td>1</td>\n",
       "      <td>0</td>\n",
       "      <td>17.222222</td>\n",
       "      <td>17.222222</td>\n",
       "      <td>0</td>\n",
       "    </tr>\n",
       "    <tr>\n",
       "      <th>2</th>\n",
       "      <td>0</td>\n",
       "      <td>1207</td>\n",
       "      <td>5</td>\n",
       "      <td>1</td>\n",
       "      <td>0</td>\n",
       "      <td>17.222222</td>\n",
       "      <td>17.222222</td>\n",
       "      <td>0</td>\n",
       "    </tr>\n",
       "    <tr>\n",
       "      <th>3</th>\n",
       "      <td>0</td>\n",
       "      <td>1507</td>\n",
       "      <td>5</td>\n",
       "      <td>1</td>\n",
       "      <td>0</td>\n",
       "      <td>17.222222</td>\n",
       "      <td>17.222222</td>\n",
       "      <td>0</td>\n",
       "    </tr>\n",
       "    <tr>\n",
       "      <th>4</th>\n",
       "      <td>0</td>\n",
       "      <td>1808</td>\n",
       "      <td>5</td>\n",
       "      <td>1</td>\n",
       "      <td>0</td>\n",
       "      <td>17.222222</td>\n",
       "      <td>17.222222</td>\n",
       "      <td>0</td>\n",
       "    </tr>\n",
       "  </tbody>\n",
       "</table>\n",
       "</div>"
      ],
      "text/plain": [
       "   number_people  timestamp  day_of_week  is_weekend  is_holiday  \\\n",
       "0              0         11            5           1           0   \n",
       "1              0        906            5           1           0   \n",
       "2              0       1207            5           1           0   \n",
       "3              0       1507            5           1           0   \n",
       "4              0       1808            5           1           0   \n",
       "\n",
       "   apparent_temperature  temperature  is_start_of_semester  \n",
       "0             17.222222    17.222222                     0  \n",
       "1             17.222222    17.222222                     0  \n",
       "2             17.222222    17.222222                     0  \n",
       "3             17.222222    17.222222                     0  \n",
       "4             17.222222    17.222222                     0  "
      ]
     },
     "execution_count": 14,
     "metadata": {},
     "output_type": "execute_result"
    }
   ],
   "source": [
    "df['apparent_temperature']= temperature_celsius\n",
    "df['apparent_temperature']\n",
    "df.head()"
   ]
  },
  {
   "cell_type": "code",
   "execution_count": 15,
   "metadata": {
    "collapsed": true
   },
   "outputs": [],
   "source": [
    "X = df.iloc[:,1:8]  # all rows, all the features and no labels\n",
    "y = df.iloc[:, 0]  # all rows, label only\n",
    "#X\n",
    "#y"
   ]
  },
  {
   "cell_type": "code",
   "execution_count": 16,
   "metadata": {
    "collapsed": false
   },
   "outputs": [
    {
     "data": {
      "text/html": [
       "<div>\n",
       "<table border=\"1\" class=\"dataframe\">\n",
       "  <thead>\n",
       "    <tr style=\"text-align: right;\">\n",
       "      <th></th>\n",
       "      <th>number_people</th>\n",
       "      <th>timestamp</th>\n",
       "      <th>day_of_week</th>\n",
       "      <th>is_weekend</th>\n",
       "      <th>is_holiday</th>\n",
       "      <th>apparent_temperature</th>\n",
       "      <th>temperature</th>\n",
       "      <th>is_start_of_semester</th>\n",
       "    </tr>\n",
       "  </thead>\n",
       "  <tbody>\n",
       "    <tr>\n",
       "      <th>number_people</th>\n",
       "      <td>1.000000</td>\n",
       "      <td>0.516721</td>\n",
       "      <td>-0.198662</td>\n",
       "      <td>-0.212955</td>\n",
       "      <td>-0.023754</td>\n",
       "      <td>0.365247</td>\n",
       "      <td>0.365247</td>\n",
       "      <td>0.188743</td>\n",
       "    </tr>\n",
       "    <tr>\n",
       "      <th>timestamp</th>\n",
       "      <td>0.516721</td>\n",
       "      <td>1.000000</td>\n",
       "      <td>0.002188</td>\n",
       "      <td>0.005774</td>\n",
       "      <td>0.000015</td>\n",
       "      <td>0.134209</td>\n",
       "      <td>0.134209</td>\n",
       "      <td>-0.008029</td>\n",
       "    </tr>\n",
       "    <tr>\n",
       "      <th>day_of_week</th>\n",
       "      <td>-0.198662</td>\n",
       "      <td>0.002188</td>\n",
       "      <td>1.000000</td>\n",
       "      <td>0.795182</td>\n",
       "      <td>-0.090568</td>\n",
       "      <td>-0.011030</td>\n",
       "      <td>-0.011030</td>\n",
       "      <td>0.005801</td>\n",
       "    </tr>\n",
       "    <tr>\n",
       "      <th>is_weekend</th>\n",
       "      <td>-0.212955</td>\n",
       "      <td>0.005774</td>\n",
       "      <td>0.795182</td>\n",
       "      <td>1.000000</td>\n",
       "      <td>-0.069256</td>\n",
       "      <td>0.003079</td>\n",
       "      <td>0.003079</td>\n",
       "      <td>0.003434</td>\n",
       "    </tr>\n",
       "    <tr>\n",
       "      <th>is_holiday</th>\n",
       "      <td>-0.023754</td>\n",
       "      <td>0.000015</td>\n",
       "      <td>-0.090568</td>\n",
       "      <td>-0.069256</td>\n",
       "      <td>1.000000</td>\n",
       "      <td>-0.059206</td>\n",
       "      <td>-0.059206</td>\n",
       "      <td>0.083802</td>\n",
       "    </tr>\n",
       "    <tr>\n",
       "      <th>apparent_temperature</th>\n",
       "      <td>0.365247</td>\n",
       "      <td>0.134209</td>\n",
       "      <td>-0.011030</td>\n",
       "      <td>0.003079</td>\n",
       "      <td>-0.059206</td>\n",
       "      <td>1.000000</td>\n",
       "      <td>1.000000</td>\n",
       "      <td>0.092255</td>\n",
       "    </tr>\n",
       "    <tr>\n",
       "      <th>temperature</th>\n",
       "      <td>0.365247</td>\n",
       "      <td>0.134209</td>\n",
       "      <td>-0.011030</td>\n",
       "      <td>0.003079</td>\n",
       "      <td>-0.059206</td>\n",
       "      <td>1.000000</td>\n",
       "      <td>1.000000</td>\n",
       "      <td>0.092255</td>\n",
       "    </tr>\n",
       "    <tr>\n",
       "      <th>is_start_of_semester</th>\n",
       "      <td>0.188743</td>\n",
       "      <td>-0.008029</td>\n",
       "      <td>0.005801</td>\n",
       "      <td>0.003434</td>\n",
       "      <td>0.083802</td>\n",
       "      <td>0.092255</td>\n",
       "      <td>0.092255</td>\n",
       "      <td>1.000000</td>\n",
       "    </tr>\n",
       "  </tbody>\n",
       "</table>\n",
       "</div>"
      ],
      "text/plain": [
       "                      number_people  timestamp  day_of_week  is_weekend  \\\n",
       "number_people              1.000000   0.516721    -0.198662   -0.212955   \n",
       "timestamp                  0.516721   1.000000     0.002188    0.005774   \n",
       "day_of_week               -0.198662   0.002188     1.000000    0.795182   \n",
       "is_weekend                -0.212955   0.005774     0.795182    1.000000   \n",
       "is_holiday                -0.023754   0.000015    -0.090568   -0.069256   \n",
       "apparent_temperature       0.365247   0.134209    -0.011030    0.003079   \n",
       "temperature                0.365247   0.134209    -0.011030    0.003079   \n",
       "is_start_of_semester       0.188743  -0.008029     0.005801    0.003434   \n",
       "\n",
       "                      is_holiday  apparent_temperature  temperature  \\\n",
       "number_people          -0.023754              0.365247     0.365247   \n",
       "timestamp               0.000015              0.134209     0.134209   \n",
       "day_of_week            -0.090568             -0.011030    -0.011030   \n",
       "is_weekend             -0.069256              0.003079     0.003079   \n",
       "is_holiday              1.000000             -0.059206    -0.059206   \n",
       "apparent_temperature   -0.059206              1.000000     1.000000   \n",
       "temperature            -0.059206              1.000000     1.000000   \n",
       "is_start_of_semester    0.083802              0.092255     0.092255   \n",
       "\n",
       "                      is_start_of_semester  \n",
       "number_people                     0.188743  \n",
       "timestamp                        -0.008029  \n",
       "day_of_week                       0.005801  \n",
       "is_weekend                        0.003434  \n",
       "is_holiday                        0.083802  \n",
       "apparent_temperature              0.092255  \n",
       "temperature                       0.092255  \n",
       "is_start_of_semester              1.000000  "
      ]
     },
     "execution_count": 16,
     "metadata": {},
     "output_type": "execute_result"
    }
   ],
   "source": [
    "df.corr()"
   ]
  },
  {
   "cell_type": "code",
   "execution_count": 17,
   "metadata": {
    "collapsed": false
   },
   "outputs": [
    {
     "data": {
      "text/plain": [
       "<matplotlib.text.Text at 0x7fd3529be470>"
      ]
     },
     "execution_count": 17,
     "metadata": {},
     "output_type": "execute_result"
    },
    {
     "data": {
      "image/png": "[encoded data removed]",
      "text/plain": [
       "<matplotlib.figure.Figure at 0x7fd355a76048>"
      ]
     },
     "metadata": {},
     "output_type": "display_data"
    }
   ],
   "source": [
    "correlation = df.corr()\n",
    "plt.figure(figsize=(10,10))\n",
    "sns.heatmap(correlation, vmax=1, square=True,annot=True,cmap='viridis')\n",
    "\n",
    "plt.title('Correlation between different fearures')"
   ]
  },
  {
   "cell_type": "markdown",
   "metadata": {},
   "source": [
    "Standardising data"
   ]
  },
  {
   "cell_type": "code",
   "execution_count": 18,
   "metadata": {
    "collapsed": false
   },
   "outputs": [
    {
     "data": {
      "text/plain": [
       "array([[-2.19905457,  0.98915621,  1.55803784, ...,  0.57637532,\n",
       "         0.57637532, -0.33364584],\n",
       "       [-2.15922689,  0.98915621,  1.55803784, ...,  0.57637532,\n",
       "         0.57637532, -0.33364584],\n",
       "       [-2.14583233,  0.98915621,  1.55803784, ...,  0.57637532,\n",
       "         0.57637532, -0.33364584],\n",
       "       ..., \n",
       "       [ 0.10561101, -1.50425286, -0.64183293, ...,  0.57637532,\n",
       "         0.57637532, -0.33364584],\n",
       "       [ 0.5185284 , -1.50425286, -0.64183293, ...,  0.43526657,\n",
       "         0.43526657, -0.33364584],\n",
       "       [ 0.53183397, -1.50425286, -0.64183293, ...,  0.43526657,\n",
       "         0.43526657, -0.33364584]])"
      ]
     },
     "execution_count": 18,
     "metadata": {},
     "output_type": "execute_result"
    }
   ],
   "source": [
    "# Scale the data to be between -1 and 1\n",
    "from sklearn.preprocessing import StandardScaler\n",
    "scaler = StandardScaler()\n",
    "X=scaler.fit_transform(X)\n",
    "X"
   ]
  },
  {
   "cell_type": "code",
   "execution_count": 19,
   "metadata": {
    "collapsed": false
   },
   "outputs": [
    {
     "data": {
      "text/plain": [
       "array([[  3.95611764e-01,  -1.78081261e+00,   1.02236289e-01, ...,\n",
       "          1.17716664e+00,  -3.94275737e-01,  -2.48929836e-16],\n",
       "       [  4.02568127e-01,  -1.78093924e+00,   9.77413362e-02, ...,\n",
       "          1.16422304e+00,  -3.94238582e-01,  -7.30201188e-17],\n",
       "       [  4.04907641e-01,  -1.78098182e+00,   9.62296257e-02, ...,\n",
       "          1.15986994e+00,  -3.94226086e-01,  -1.65408011e-16],\n",
       "       ..., \n",
       "       [  7.77050910e-01,   1.49879167e+00,  -4.86264267e-01, ...,\n",
       "          1.39776045e-01,  -6.04737810e-01,  -1.96298740e-17],\n",
       "       [  6.54495059e-01,   1.49425867e+00,  -5.29308255e-01, ...,\n",
       "         -3.03595421e-02,  -6.06178650e-01,  -8.14858450e-19],\n",
       "       [  6.56819029e-01,   1.49421637e+00,  -5.30809921e-01, ...,\n",
       "         -3.46837172e-02,  -6.06166237e-01,  -8.52872176e-18]])"
      ]
     },
     "execution_count": 19,
     "metadata": {},
     "output_type": "execute_result"
    }
   ],
   "source": [
    "from sklearn.decomposition import PCA\n",
    "pca = PCA()\n",
    "pca.fit_transform(X)"
   ]
  },
  {
   "cell_type": "code",
   "execution_count": 20,
   "metadata": {
    "collapsed": false
   },
   "outputs": [
    {
     "data": {
      "text/plain": [
       "array([[  1.00000000e+00,   2.18839321e-03,   5.77365351e-03,\n",
       "          1.50144116e-05,   1.34208956e-01,   1.34208956e-01,\n",
       "         -8.02885396e-03],\n",
       "       [  2.18839321e-03,   1.00000000e+00,   7.95181803e-01,\n",
       "         -9.05684631e-02,  -1.10302480e-02,  -1.10302480e-02,\n",
       "          5.80063302e-03],\n",
       "       [  5.77365351e-03,   7.95181803e-01,   1.00000000e+00,\n",
       "         -6.92562742e-02,   3.07858344e-03,   3.07858344e-03,\n",
       "          3.43411028e-03],\n",
       "       [  1.50144116e-05,  -9.05684631e-02,  -6.92562742e-02,\n",
       "          1.00000000e+00,  -5.92059778e-02,  -5.92059778e-02,\n",
       "          8.38017039e-02],\n",
       "       [  1.34208956e-01,  -1.10302480e-02,   3.07858344e-03,\n",
       "         -5.92059778e-02,   1.00000000e+00,   1.00000000e+00,\n",
       "          9.22549344e-02],\n",
       "       [  1.34208956e-01,  -1.10302480e-02,   3.07858344e-03,\n",
       "         -5.92059778e-02,   1.00000000e+00,   1.00000000e+00,\n",
       "          9.22549344e-02],\n",
       "       [ -8.02885396e-03,   5.80063302e-03,   3.43411028e-03,\n",
       "          8.38017039e-02,   9.22549344e-02,   9.22549344e-02,\n",
       "          1.00000000e+00]])"
      ]
     },
     "execution_count": 20,
     "metadata": {},
     "output_type": "execute_result"
    }
   ],
   "source": [
    "pca.get_covariance()"
   ]
  },
  {
   "cell_type": "code",
   "execution_count": 21,
   "metadata": {
    "collapsed": false
   },
   "outputs": [
    {
     "data": {
      "text/plain": [
       "array([  2.93596458e-01,   2.58705412e-01,   1.53764974e-01,\n",
       "         1.39472742e-01,   1.25265477e-01,   2.91949375e-02,\n",
       "         1.97280166e-33])"
      ]
     },
     "execution_count": 21,
     "metadata": {},
     "output_type": "execute_result"
    }
   ],
   "source": [
    "explained_variance=pca.explained_variance_ratio_\n",
    "explained_variance"
   ]
  },
  {
   "cell_type": "code",
   "execution_count": 22,
   "metadata": {
    "collapsed": false
   },
   "outputs": [
    {
     "data": {
      "image/png": "[encoded data removed]",
      "text/plain": [
       "<matplotlib.figure.Figure at 0x7fd3524ab668>"
      ]
     },
     "metadata": {},
     "output_type": "display_data"
    }
   ],
   "source": [
    "with plt.style.context('dark_background'):\n",
    "    plt.figure(figsize=(6, 4))\n",
    "\n",
    "    plt.bar(range(7), explained_variance, alpha=0.5, align='center',\n",
    "            label='individual explained variance')\n",
    "    plt.ylabel('Explained variance ratio')\n",
    "    plt.xlabel('Principal components')\n",
    "    plt.legend(loc='best')\n",
    "    plt.tight_layout()"
   ]
  },
  {
   "cell_type": "markdown",
   "metadata": {},
   "source": [
    "**Thus we can see from the above plot that  first two components constitute almost 55% of the variance.Third,fourth and fifth components has 42% of the data sprad.The last component has less than 5% of the variance.Hence we can drop the fifth component  **"
   ]
  },
  {
   "cell_type": "code",
   "execution_count": 23,
   "metadata": {
    "collapsed": false
   },
   "outputs": [
    {
     "data": {
      "text/plain": [
       "array([[ 0.39561176, -1.78081261,  0.10223629, -2.03708214,  1.17716664],\n",
       "       [ 0.40256813, -1.78093924,  0.09774134, -2.0003385 ,  1.16422304],\n",
       "       [ 0.40490764, -1.78098182,  0.09622963, -1.98798115,  1.15986994],\n",
       "       ..., \n",
       "       [ 0.77705091,  1.49879167, -0.48626427, -0.03710784,  0.13977604],\n",
       "       [ 0.65449506,  1.49425867, -0.52930826,  0.36845679, -0.03035954],\n",
       "       [ 0.65681903,  1.49421637, -0.53080992,  0.38073204, -0.03468372]])"
      ]
     },
     "execution_count": 23,
     "metadata": {},
     "output_type": "execute_result"
    }
   ],
   "source": [
    "pca=PCA(n_components=5)\n",
    "X_new=pca.fit_transform(X)\n",
    "X_new"
   ]
  },
  {
   "cell_type": "code",
   "execution_count": 24,
   "metadata": {
    "collapsed": false
   },
   "outputs": [
    {
     "data": {
      "text/plain": [
       "array([[  1.00000000e+00,   2.18839321e-03,   5.77365351e-03,\n",
       "          1.50144116e-05,   1.34208956e-01,   1.34208956e-01,\n",
       "         -8.02885396e-03],\n",
       "       [  2.18839321e-03,   1.00000000e+00,   7.95181803e-01,\n",
       "         -9.05684631e-02,  -1.10302480e-02,  -1.10302480e-02,\n",
       "          5.80063302e-03],\n",
       "       [  5.77365351e-03,   7.95181803e-01,   1.00000000e+00,\n",
       "         -6.92562742e-02,   3.07858344e-03,   3.07858344e-03,\n",
       "          3.43411028e-03],\n",
       "       [  1.50144116e-05,  -9.05684631e-02,  -6.92562742e-02,\n",
       "          1.00000000e+00,  -5.92059778e-02,  -5.92059778e-02,\n",
       "          8.38017039e-02],\n",
       "       [  1.34208956e-01,  -1.10302480e-02,   3.07858344e-03,\n",
       "         -5.92059778e-02,   1.10218228e+00,   8.97817719e-01,\n",
       "          9.22549344e-02],\n",
       "       [  1.34208956e-01,  -1.10302480e-02,   3.07858344e-03,\n",
       "         -5.92059778e-02,   8.97817719e-01,   1.10218228e+00,\n",
       "          9.22549344e-02],\n",
       "       [ -8.02885396e-03,   5.80063302e-03,   3.43411028e-03,\n",
       "          8.38017039e-02,   9.22549344e-02,   9.22549344e-02,\n",
       "          1.00000000e+00]])"
      ]
     },
     "execution_count": 24,
     "metadata": {},
     "output_type": "execute_result"
    }
   ],
   "source": [
    "pca.get_covariance()"
   ]
  },
  {
   "cell_type": "code",
   "execution_count": 25,
   "metadata": {
    "collapsed": false
   },
   "outputs": [
    {
     "data": {
      "text/plain": [
       "array([ 0.29359646,  0.25870541,  0.15376497,  0.13947274,  0.12526548])"
      ]
     },
     "execution_count": 25,
     "metadata": {},
     "output_type": "execute_result"
    }
   ],
   "source": [
    "explained_variance=pca.explained_variance_ratio_\n",
    "explained_variance"
   ]
  },
  {
   "cell_type": "code",
   "execution_count": 26,
   "metadata": {
    "collapsed": false
   },
   "outputs": [
    {
     "data": {
      "image/png": "[encoded data removed]",
      "text/plain": [
       "<matplotlib.figure.Figure at 0x7fd3524be278>"
      ]
     },
     "metadata": {},
     "output_type": "display_data"
    }
   ],
   "source": [
    "with plt.style.context('dark_background'):\n",
    "    plt.figure(figsize=(6, 4))\n",
    "\n",
    "    plt.bar(range(5), explained_variance, alpha=0.5, align='center',\n",
    "            label='individual explained variance')\n",
    "    plt.ylabel('Explained variance ratio')\n",
    "    plt.xlabel('Principal components')\n",
    "    plt.legend(loc='best')\n",
    "    plt.tight_layout()"
   ]
  },
  {
   "cell_type": "code",
   "execution_count": 27,
   "metadata": {
    "collapsed": false
   },
   "outputs": [
    {
     "data": {
      "text/plain": [
       "(20852, 7)"
      ]
     },
     "execution_count": 27,
     "metadata": {},
     "output_type": "execute_result"
    }
   ],
   "source": [
    "from sklearn.model_selection import train_test_split\n",
    "X_train, X_test, y_train, y_test = train_test_split(X, y, test_size=0.2, random_state=1)\n",
    "X_train.shape"
   ]
  },
  {
   "cell_type": "code",
   "execution_count": 28,
   "metadata": {
    "collapsed": true
   },
   "outputs": [],
   "source": [
    "# Establish model\n",
    "from sklearn.ensemble import RandomForestRegressor\n",
    "model = RandomForestRegressor()"
   ]
  },
  {
   "cell_type": "code",
   "execution_count": 29,
   "metadata": {
    "collapsed": false
   },
   "outputs": [
    {
     "name": "stdout",
     "output_type": "stream",
     "text": [
      "[0.85963036952412664, 0.86744577866810968, 0.86832547513793146, 0.87033744260806645, 0.87222068002349973, 0.87120748446329488, 0.87132277215898712, 0.87165976676597212, 0.87065066046187967, 0.8723878718756739, 0.8732572224769608, 0.87408753090595126, 0.87235916017181148, 0.87309720303983218, 0.8729664454080367, 0.87300878471052334, 0.87427791413432587, 0.87360306413131106, 0.87362007853661194]\n"
     ]
    }
   ],
   "source": [
    "# Try different numbers of n_estimators - this will take a minute or so\n",
    "estimators = np.arange(10, 200, 10)\n",
    "scores = []\n",
    "for n in estimators:\n",
    "    model.set_params(n_estimators=n)\n",
    "    model.fit(X_train, y_train)\n",
    "    scores.append(model.score(X_test, y_test))\n",
    "print(scores)    "
   ]
  },
  {
   "cell_type": "code",
   "execution_count": 30,
   "metadata": {
    "collapsed": false
   },
   "outputs": [
    {
     "data": {
      "text/plain": [
       "[<matplotlib.lines.Line2D at 0x7fd3523b5278>]"
      ]
     },
     "execution_count": 30,
     "metadata": {},
     "output_type": "execute_result"
    },
    {
     "data": {
      "image/png": "[encoded data removed]",
      "text/plain": [
       "<matplotlib.figure.Figure at 0x7fd3523326a0>"
      ]
     },
     "metadata": {},
     "output_type": "display_data"
    }
   ],
   "source": [
    "plt.title(\"Effect of n_estimators\")\n",
    "plt.xlabel(\"n_estimator\")\n",
    "plt.ylabel(\"score\")\n",
    "plt.plot(estimators, scores)"
   ]
  },
  {
   "cell_type": "code",
   "execution_count": 31,
   "metadata": {
    "collapsed": false
   },
   "outputs": [
    {
     "data": {
      "text/plain": [
       "(20852, 5)"
      ]
     },
     "execution_count": 31,
     "metadata": {},
     "output_type": "execute_result"
    }
   ],
   "source": [
    "from sklearn.model_selection import train_test_split\n",
    "X_train, X_test, y_train, y_test = train_test_split(X_new, y, test_size=0.2, random_state=1)\n",
    "X_train.shape"
   ]
  },
  {
   "cell_type": "code",
   "execution_count": 32,
   "metadata": {
    "collapsed": true
   },
   "outputs": [],
   "source": [
    "# Establish model\n",
    "from sklearn.ensemble import RandomForestRegressor\n",
    "model = RandomForestRegressor()"
   ]
  },
  {
   "cell_type": "code",
   "execution_count": 33,
   "metadata": {
    "collapsed": false
   },
   "outputs": [
    {
     "name": "stdout",
     "output_type": "stream",
     "text": [
      "[0.80415638552324187, 0.81431932867919499, 0.8157452292030658, 0.81803821197281401, 0.81785567390674785, 0.81962848084976969, 0.82156414668238376, 0.82203573811418273, 0.82016054159945806, 0.81992768950883665, 0.8204614663605404, 0.82073576912270074, 0.82042313590525184, 0.82080071821285849, 0.82251560347419328, 0.82090916728815488, 0.82101865374271077, 0.82087911898661214, 0.82021273168416298]\n"
     ]
    }
   ],
   "source": [
    "# Try different numbers of n_estimators - this will take a minute or so\n",
    "estimators = np.arange(10, 200, 10)\n",
    "scores = []\n",
    "for n in estimators:\n",
    "    model.set_params(n_estimators=n)\n",
    "    model.fit(X_train, y_train)\n",
    "    scores.append(model.score(X_test, y_test))\n",
    "print(scores)    "
   ]
  },
  {
   "cell_type": "code",
   "execution_count": 34,
   "metadata": {
    "collapsed": false
   },
   "outputs": [
    {
     "data": {
      "text/plain": [
       "[<matplotlib.lines.Line2D at 0x7fd352454e80>]"
      ]
     },
     "execution_count": 34,
     "metadata": {},
     "output_type": "execute_result"
    },
    {
     "data": {
      "image/png": "[encoded data removed]",
      "text/plain": [
       "<matplotlib.figure.Figure at 0x7fd35233f4e0>"
      ]
     },
     "metadata": {},
     "output_type": "display_data"
    }
   ],
   "source": [
    "plt.title(\"Effect of n_estimators\")\n",
    "plt.xlabel(\"n_estimator\")\n",
    "plt.ylabel(\"score\")\n",
    "plt.plot(estimators, scores)"
   ]
  },
  {
   "cell_type": "markdown",
   "metadata": {},
   "source": [
    "You can find my notebook on Github:\n",
    "(\"https://github.com/nirajvermafcb/Data-Science-with-python\")"
   ]
  }
 ],
 "metadata": {
  "kernelspec": {
   "display_name": "Python 2",
   "language": "python",
   "name": "python2"
  },
  "language_info": {
   "codemirror_mode": {
    "name": "ipython",
    "version": 2
   },
   "file_extension": ".py",
   "mimetype": "text/x-python",
   "name": "python",
   "nbconvert_exporter": "python",
   "pygments_lexer": "ipython2",
   "version": "2.7.13"
  }
 },
 "nbformat": 4,
 "nbformat_minor": 0
}
