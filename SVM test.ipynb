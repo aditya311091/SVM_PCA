{
 "cells": [
  {
   "cell_type": "code",
   "execution_count": 1,
   "metadata": {
    "collapsed": true
   },
   "outputs": [],
   "source": [
    "import pandas as pd\n",
    "import numpy as np\n",
    "#import seaborn as sns\n",
    "\n",
    "import matplotlib.pyplot as plt\n",
    "\n",
    "%matplotlib inline"
   ]
  },
  {
   "cell_type": "code",
   "execution_count": 19,
   "metadata": {
    "collapsed": true
   },
   "outputs": [],
   "source": [
    "df = pd.read_csv('mushrooms.csv')\n",
    "#df.head()"
   ]
  },
  {
   "cell_type": "code",
   "execution_count": 4,
   "metadata": {
    "collapsed": true
   },
   "outputs": [
    {
     "data": {
      "text/html": [
       "<div>\n",
       "<table border=\"1\" class=\"dataframe\">\n",
       "  <thead>\n",
       "    <tr style=\"text-align: right;\">\n",
       "      <th></th>\n",
       "      <th>class</th>\n",
       "      <th>cap-shape</th>\n",
       "      <th>cap-surface</th>\n",
       "      <th>cap-color</th>\n",
       "      <th>bruises</th>\n",
       "      <th>odor</th>\n",
       "      <th>gill-attachment</th>\n",
       "      <th>gill-spacing</th>\n",
       "      <th>gill-size</th>\n",
       "      <th>gill-color</th>\n",
       "      <th>...</th>\n",
       "      <th>stalk-surface-below-ring</th>\n",
       "      <th>stalk-color-above-ring</th>\n",
       "      <th>stalk-color-below-ring</th>\n",
       "      <th>veil-type</th>\n",
       "      <th>veil-color</th>\n",
       "      <th>ring-number</th>\n",
       "      <th>ring-type</th>\n",
       "      <th>spore-print-color</th>\n",
       "      <th>population</th>\n",
       "      <th>habitat</th>\n",
       "    </tr>\n",
       "  </thead>\n",
       "  <tbody>\n",
       "    <tr>\n",
       "      <th>count</th>\n",
       "      <td>8124</td>\n",
       "      <td>8124</td>\n",
       "      <td>8124</td>\n",
       "      <td>8124</td>\n",
       "      <td>8124</td>\n",
       "      <td>8124</td>\n",
       "      <td>8124</td>\n",
       "      <td>8124</td>\n",
       "      <td>8124</td>\n",
       "      <td>8124</td>\n",
       "      <td>...</td>\n",
       "      <td>8124</td>\n",
       "      <td>8124</td>\n",
       "      <td>8124</td>\n",
       "      <td>8124</td>\n",
       "      <td>8124</td>\n",
       "      <td>8124</td>\n",
       "      <td>8124</td>\n",
       "      <td>8124</td>\n",
       "      <td>8124</td>\n",
       "      <td>8124</td>\n",
       "    </tr>\n",
       "    <tr>\n",
       "      <th>unique</th>\n",
       "      <td>2</td>\n",
       "      <td>6</td>\n",
       "      <td>4</td>\n",
       "      <td>10</td>\n",
       "      <td>2</td>\n",
       "      <td>9</td>\n",
       "      <td>2</td>\n",
       "      <td>2</td>\n",
       "      <td>2</td>\n",
       "      <td>12</td>\n",
       "      <td>...</td>\n",
       "      <td>4</td>\n",
       "      <td>9</td>\n",
       "      <td>9</td>\n",
       "      <td>1</td>\n",
       "      <td>4</td>\n",
       "      <td>3</td>\n",
       "      <td>5</td>\n",
       "      <td>9</td>\n",
       "      <td>6</td>\n",
       "      <td>7</td>\n",
       "    </tr>\n",
       "    <tr>\n",
       "      <th>top</th>\n",
       "      <td>e</td>\n",
       "      <td>x</td>\n",
       "      <td>y</td>\n",
       "      <td>n</td>\n",
       "      <td>f</td>\n",
       "      <td>n</td>\n",
       "      <td>f</td>\n",
       "      <td>c</td>\n",
       "      <td>b</td>\n",
       "      <td>b</td>\n",
       "      <td>...</td>\n",
       "      <td>s</td>\n",
       "      <td>w</td>\n",
       "      <td>w</td>\n",
       "      <td>p</td>\n",
       "      <td>w</td>\n",
       "      <td>o</td>\n",
       "      <td>p</td>\n",
       "      <td>w</td>\n",
       "      <td>v</td>\n",
       "      <td>d</td>\n",
       "    </tr>\n",
       "    <tr>\n",
       "      <th>freq</th>\n",
       "      <td>4208</td>\n",
       "      <td>3656</td>\n",
       "      <td>3244</td>\n",
       "      <td>2284</td>\n",
       "      <td>4748</td>\n",
       "      <td>3528</td>\n",
       "      <td>7914</td>\n",
       "      <td>6812</td>\n",
       "      <td>5612</td>\n",
       "      <td>1728</td>\n",
       "      <td>...</td>\n",
       "      <td>4936</td>\n",
       "      <td>4464</td>\n",
       "      <td>4384</td>\n",
       "      <td>8124</td>\n",
       "      <td>7924</td>\n",
       "      <td>7488</td>\n",
       "      <td>3968</td>\n",
       "      <td>2388</td>\n",
       "      <td>4040</td>\n",
       "      <td>3148</td>\n",
       "    </tr>\n",
       "  </tbody>\n",
       "</table>\n",
       "<p>4 rows × 23 columns</p>\n",
       "</div>"
      ],
      "text/plain": [
       "       class cap-shape cap-surface cap-color bruises  odor gill-attachment  \\\n",
       "count   8124      8124        8124      8124    8124  8124            8124   \n",
       "unique     2         6           4        10       2     9               2   \n",
       "top        e         x           y         n       f     n               f   \n",
       "freq    4208      3656        3244      2284    4748  3528            7914   \n",
       "\n",
       "       gill-spacing gill-size gill-color   ...   stalk-surface-below-ring  \\\n",
       "count          8124      8124       8124   ...                       8124   \n",
       "unique            2         2         12   ...                          4   \n",
       "top               c         b          b   ...                          s   \n",
       "freq           6812      5612       1728   ...                       4936   \n",
       "\n",
       "       stalk-color-above-ring stalk-color-below-ring veil-type veil-color  \\\n",
       "count                    8124                   8124      8124       8124   \n",
       "unique                      9                      9         1          4   \n",
       "top                         w                      w         p          w   \n",
       "freq                     4464                   4384      8124       7924   \n",
       "\n",
       "       ring-number ring-type spore-print-color population habitat  \n",
       "count         8124      8124              8124       8124    8124  \n",
       "unique           3         5                 9          6       7  \n",
       "top              o         p                 w          v       d  \n",
       "freq          7488      3968              2388       4040    3148  \n",
       "\n",
       "[4 rows x 23 columns]"
      ]
     },
     "execution_count": 4,
     "metadata": {},
     "output_type": "execute_result"
    }
   ],
   "source": [
    "df.describe()"
   ]
  },
  {
   "cell_type": "code",
   "execution_count": 5,
   "metadata": {
    "collapsed": true
   },
   "outputs": [
    {
     "data": {
      "text/plain": [
       "class                       0\n",
       "cap-shape                   0\n",
       "cap-surface                 0\n",
       "cap-color                   0\n",
       "bruises                     0\n",
       "odor                        0\n",
       "gill-attachment             0\n",
       "gill-spacing                0\n",
       "gill-size                   0\n",
       "gill-color                  0\n",
       "stalk-shape                 0\n",
       "stalk-root                  0\n",
       "stalk-surface-above-ring    0\n",
       "stalk-surface-below-ring    0\n",
       "stalk-color-above-ring      0\n",
       "stalk-color-below-ring      0\n",
       "veil-type                   0\n",
       "veil-color                  0\n",
       "ring-number                 0\n",
       "ring-type                   0\n",
       "spore-print-color           0\n",
       "population                  0\n",
       "habitat                     0\n",
       "dtype: int64"
      ]
     },
     "execution_count": 5,
     "metadata": {},
     "output_type": "execute_result"
    }
   ],
   "source": [
    "df.isnull().sum()"
   ]
  },
  {
   "cell_type": "code",
   "execution_count": 7,
   "metadata": {
    "collapsed": true
   },
   "outputs": [
    {
     "data": {
      "text/plain": [
       "(8124, 23)"
      ]
     },
     "execution_count": 7,
     "metadata": {},
     "output_type": "execute_result"
    }
   ],
   "source": [
    "df.shape"
   ]
  },
  {
   "cell_type": "code",
   "execution_count": 22,
   "metadata": {
    "collapsed": true
   },
   "outputs": [
    {
     "name": "stdout",
     "output_type": "stream",
     "text": [
      "Total number of labels: 7832\n",
      "Number of poisonous: 3916\n",
      "Number of eatable: 3916\n"
     ]
    }
   ],
   "source": [
    "print(\"Total number of labels: {}\".format(df.shape[0]))\n",
    "print(\"Number of poisonous: {}\".format(df[df['class'] == 'p'].shape[0]))\n",
    "print(\"Number of eatable: {}\".format(df[df['class'] == 'e'].shape[0]))"
   ]
  },
  {
   "cell_type": "code",
   "execution_count": 21,
   "metadata": {
    "collapsed": false
   },
   "outputs": [],
   "source": [
    "df = df.drop(df[df['class'] == 'e'].index[list(range(292))])"
   ]
  },
  {
   "cell_type": "code",
   "execution_count": 23,
   "metadata": {
    "collapsed": true
   },
   "outputs": [
    {
     "data": {
      "text/plain": [
       "(7832, 23)"
      ]
     },
     "execution_count": 23,
     "metadata": {},
     "output_type": "execute_result"
    }
   ],
   "source": [
    "df.shape"
   ]
  },
  {
   "cell_type": "code",
   "execution_count": 25,
   "metadata": {
    "collapsed": true
   },
   "outputs": [
    {
     "data": {
      "text/html": [
       "<div>\n",
       "<table border=\"1\" class=\"dataframe\">\n",
       "  <thead>\n",
       "    <tr style=\"text-align: right;\">\n",
       "      <th></th>\n",
       "      <th>cap-shape</th>\n",
       "      <th>cap-surface</th>\n",
       "      <th>cap-color</th>\n",
       "      <th>bruises</th>\n",
       "      <th>odor</th>\n",
       "      <th>gill-attachment</th>\n",
       "      <th>gill-spacing</th>\n",
       "      <th>gill-size</th>\n",
       "      <th>gill-color</th>\n",
       "      <th>stalk-shape</th>\n",
       "      <th>...</th>\n",
       "      <th>stalk-surface-below-ring</th>\n",
       "      <th>stalk-color-above-ring</th>\n",
       "      <th>stalk-color-below-ring</th>\n",
       "      <th>veil-type</th>\n",
       "      <th>veil-color</th>\n",
       "      <th>ring-number</th>\n",
       "      <th>ring-type</th>\n",
       "      <th>spore-print-color</th>\n",
       "      <th>population</th>\n",
       "      <th>habitat</th>\n",
       "    </tr>\n",
       "  </thead>\n",
       "  <tbody>\n",
       "    <tr>\n",
       "      <th>0</th>\n",
       "      <td>x</td>\n",
       "      <td>s</td>\n",
       "      <td>n</td>\n",
       "      <td>t</td>\n",
       "      <td>p</td>\n",
       "      <td>f</td>\n",
       "      <td>c</td>\n",
       "      <td>n</td>\n",
       "      <td>k</td>\n",
       "      <td>e</td>\n",
       "      <td>...</td>\n",
       "      <td>s</td>\n",
       "      <td>w</td>\n",
       "      <td>w</td>\n",
       "      <td>p</td>\n",
       "      <td>w</td>\n",
       "      <td>o</td>\n",
       "      <td>p</td>\n",
       "      <td>k</td>\n",
       "      <td>s</td>\n",
       "      <td>u</td>\n",
       "    </tr>\n",
       "    <tr>\n",
       "      <th>3</th>\n",
       "      <td>x</td>\n",
       "      <td>y</td>\n",
       "      <td>w</td>\n",
       "      <td>t</td>\n",
       "      <td>p</td>\n",
       "      <td>f</td>\n",
       "      <td>c</td>\n",
       "      <td>n</td>\n",
       "      <td>n</td>\n",
       "      <td>e</td>\n",
       "      <td>...</td>\n",
       "      <td>s</td>\n",
       "      <td>w</td>\n",
       "      <td>w</td>\n",
       "      <td>p</td>\n",
       "      <td>w</td>\n",
       "      <td>o</td>\n",
       "      <td>p</td>\n",
       "      <td>k</td>\n",
       "      <td>s</td>\n",
       "      <td>u</td>\n",
       "    </tr>\n",
       "    <tr>\n",
       "      <th>8</th>\n",
       "      <td>x</td>\n",
       "      <td>y</td>\n",
       "      <td>w</td>\n",
       "      <td>t</td>\n",
       "      <td>p</td>\n",
       "      <td>f</td>\n",
       "      <td>c</td>\n",
       "      <td>n</td>\n",
       "      <td>p</td>\n",
       "      <td>e</td>\n",
       "      <td>...</td>\n",
       "      <td>s</td>\n",
       "      <td>w</td>\n",
       "      <td>w</td>\n",
       "      <td>p</td>\n",
       "      <td>w</td>\n",
       "      <td>o</td>\n",
       "      <td>p</td>\n",
       "      <td>k</td>\n",
       "      <td>v</td>\n",
       "      <td>g</td>\n",
       "    </tr>\n",
       "    <tr>\n",
       "      <th>13</th>\n",
       "      <td>x</td>\n",
       "      <td>y</td>\n",
       "      <td>w</td>\n",
       "      <td>t</td>\n",
       "      <td>p</td>\n",
       "      <td>f</td>\n",
       "      <td>c</td>\n",
       "      <td>n</td>\n",
       "      <td>k</td>\n",
       "      <td>e</td>\n",
       "      <td>...</td>\n",
       "      <td>s</td>\n",
       "      <td>w</td>\n",
       "      <td>w</td>\n",
       "      <td>p</td>\n",
       "      <td>w</td>\n",
       "      <td>o</td>\n",
       "      <td>p</td>\n",
       "      <td>n</td>\n",
       "      <td>v</td>\n",
       "      <td>u</td>\n",
       "    </tr>\n",
       "    <tr>\n",
       "      <th>17</th>\n",
       "      <td>x</td>\n",
       "      <td>s</td>\n",
       "      <td>n</td>\n",
       "      <td>t</td>\n",
       "      <td>p</td>\n",
       "      <td>f</td>\n",
       "      <td>c</td>\n",
       "      <td>n</td>\n",
       "      <td>n</td>\n",
       "      <td>e</td>\n",
       "      <td>...</td>\n",
       "      <td>s</td>\n",
       "      <td>w</td>\n",
       "      <td>w</td>\n",
       "      <td>p</td>\n",
       "      <td>w</td>\n",
       "      <td>o</td>\n",
       "      <td>p</td>\n",
       "      <td>k</td>\n",
       "      <td>s</td>\n",
       "      <td>g</td>\n",
       "    </tr>\n",
       "  </tbody>\n",
       "</table>\n",
       "<p>5 rows × 22 columns</p>\n",
       "</div>"
      ],
      "text/plain": [
       "   cap-shape cap-surface cap-color bruises odor gill-attachment gill-spacing  \\\n",
       "0          x           s         n       t    p               f            c   \n",
       "3          x           y         w       t    p               f            c   \n",
       "8          x           y         w       t    p               f            c   \n",
       "13         x           y         w       t    p               f            c   \n",
       "17         x           s         n       t    p               f            c   \n",
       "\n",
       "   gill-size gill-color stalk-shape   ...   stalk-surface-below-ring  \\\n",
       "0          n          k           e   ...                          s   \n",
       "3          n          n           e   ...                          s   \n",
       "8          n          p           e   ...                          s   \n",
       "13         n          k           e   ...                          s   \n",
       "17         n          n           e   ...                          s   \n",
       "\n",
       "   stalk-color-above-ring stalk-color-below-ring veil-type veil-color  \\\n",
       "0                       w                      w         p          w   \n",
       "3                       w                      w         p          w   \n",
       "8                       w                      w         p          w   \n",
       "13                      w                      w         p          w   \n",
       "17                      w                      w         p          w   \n",
       "\n",
       "   ring-number ring-type spore-print-color population habitat  \n",
       "0            o         p                 k          s       u  \n",
       "3            o         p                 k          s       u  \n",
       "8            o         p                 k          v       g  \n",
       "13           o         p                 n          v       u  \n",
       "17           o         p                 k          s       g  \n",
       "\n",
       "[5 rows x 22 columns]"
      ]
     },
     "execution_count": 25,
     "metadata": {},
     "output_type": "execute_result"
    }
   ],
   "source": [
    "X = df.iloc[:,1:]\n",
    "X.head()"
   ]
  },
  {
   "cell_type": "code",
   "execution_count": 28,
   "metadata": {
    "collapsed": true
   },
   "outputs": [],
   "source": [
    "Y = df.iloc[:,0]"
   ]
  },
  {
   "cell_type": "code",
   "execution_count": 29,
   "metadata": {
    "collapsed": true
   },
   "outputs": [
    {
     "data": {
      "text/plain": [
       "0       p\n",
       "3       p\n",
       "8       p\n",
       "13      p\n",
       "17      p\n",
       "18      p\n",
       "19      p\n",
       "21      p\n",
       "25      p\n",
       "31      p\n",
       "37      p\n",
       "43      p\n",
       "53      p\n",
       "54      p\n",
       "78      p\n",
       "81      p\n",
       "114     p\n",
       "120     p\n",
       "122     p\n",
       "135     p\n",
       "138     p\n",
       "180     p\n",
       "185     p\n",
       "205     p\n",
       "221     p\n",
       "228     p\n",
       "231     p\n",
       "243     p\n",
       "251     p\n",
       "261     p\n",
       "       ..\n",
       "8094    e\n",
       "8095    p\n",
       "8096    e\n",
       "8097    p\n",
       "8098    p\n",
       "8099    e\n",
       "8100    e\n",
       "8101    p\n",
       "8102    e\n",
       "8103    e\n",
       "8104    e\n",
       "8105    e\n",
       "8106    e\n",
       "8107    e\n",
       "8108    p\n",
       "8109    e\n",
       "8110    e\n",
       "8111    e\n",
       "8112    e\n",
       "8113    p\n",
       "8114    p\n",
       "8115    e\n",
       "8116    p\n",
       "8117    p\n",
       "8118    p\n",
       "8119    e\n",
       "8120    e\n",
       "8121    e\n",
       "8122    p\n",
       "8123    e\n",
       "Name: class, dtype: object"
      ]
     },
     "execution_count": 29,
     "metadata": {},
     "output_type": "execute_result"
    }
   ],
   "source": [
    "Y"
   ]
  },
  {
   "cell_type": "code",
   "execution_count": 31,
   "metadata": {
    "collapsed": true
   },
   "outputs": [
    {
     "data": {
      "text/plain": [
       "array([1, 1, 1, ..., 0, 1, 0], dtype=int64)"
      ]
     },
     "execution_count": 31,
     "metadata": {},
     "output_type": "execute_result"
    }
   ],
   "source": [
    "from sklearn.preprocessing import LabelEncoder\n",
    "\n",
    "# Encode label category\n",
    "# poisonous -> 1\n",
    "# eatable -> 0\n",
    "\n",
    "mushroom_encoder = LabelEncoder()\n",
    "Y = mushroom_encoder.fit_transform(Y)\n",
    "Y"
   ]
  },
  {
   "cell_type": "code",
   "execution_count": 36,
   "metadata": {
    "collapsed": true
   },
   "outputs": [
    {
     "data": {
      "text/plain": [
       "['cap-shape',\n",
       " 'cap-surface',\n",
       " 'cap-color',\n",
       " 'bruises',\n",
       " 'odor',\n",
       " 'gill-attachment',\n",
       " 'gill-spacing',\n",
       " 'gill-size',\n",
       " 'gill-color',\n",
       " 'stalk-shape',\n",
       " 'stalk-root',\n",
       " 'stalk-surface-above-ring',\n",
       " 'stalk-surface-below-ring',\n",
       " 'stalk-color-above-ring',\n",
       " 'stalk-color-below-ring',\n",
       " 'veil-type',\n",
       " 'veil-color',\n",
       " 'ring-number',\n",
       " 'ring-type',\n",
       " 'spore-print-color',\n",
       " 'population',\n",
       " 'habitat']"
      ]
     },
     "execution_count": 36,
     "metadata": {},
     "output_type": "execute_result"
    }
   ],
   "source": [
    "list(X.columns)"
   ]
  },
  {
   "cell_type": "code",
   "execution_count": 37,
   "metadata": {
    "collapsed": true
   },
   "outputs": [
    {
     "name": "stderr",
     "output_type": "stream",
     "text": [
      "C:\\Users\\SHADOWFAX\\Anaconda2\\lib\\site-packages\\ipykernel\\__main__.py:3: SettingWithCopyWarning: \n",
      "A value is trying to be set on a copy of a slice from a DataFrame.\n",
      "Try using .loc[row_indexer,col_indexer] = value instead\n",
      "\n",
      "See the caveats in the documentation: http://pandas.pydata.org/pandas-docs/stable/indexing.html#indexing-view-versus-copy\n",
      "  app.launch_new_instance()\n"
     ]
    },
    {
     "data": {
      "text/html": [
       "<div>\n",
       "<table border=\"1\" class=\"dataframe\">\n",
       "  <thead>\n",
       "    <tr style=\"text-align: right;\">\n",
       "      <th></th>\n",
       "      <th>cap-shape</th>\n",
       "      <th>cap-surface</th>\n",
       "      <th>cap-color</th>\n",
       "      <th>bruises</th>\n",
       "      <th>odor</th>\n",
       "      <th>gill-attachment</th>\n",
       "      <th>gill-spacing</th>\n",
       "      <th>gill-size</th>\n",
       "      <th>gill-color</th>\n",
       "      <th>stalk-shape</th>\n",
       "      <th>...</th>\n",
       "      <th>stalk-surface-below-ring</th>\n",
       "      <th>stalk-color-above-ring</th>\n",
       "      <th>stalk-color-below-ring</th>\n",
       "      <th>veil-type</th>\n",
       "      <th>veil-color</th>\n",
       "      <th>ring-number</th>\n",
       "      <th>ring-type</th>\n",
       "      <th>spore-print-color</th>\n",
       "      <th>population</th>\n",
       "      <th>habitat</th>\n",
       "    </tr>\n",
       "  </thead>\n",
       "  <tbody>\n",
       "    <tr>\n",
       "      <th>0</th>\n",
       "      <td>5</td>\n",
       "      <td>2</td>\n",
       "      <td>4</td>\n",
       "      <td>1</td>\n",
       "      <td>6</td>\n",
       "      <td>1</td>\n",
       "      <td>0</td>\n",
       "      <td>1</td>\n",
       "      <td>4</td>\n",
       "      <td>0</td>\n",
       "      <td>...</td>\n",
       "      <td>2</td>\n",
       "      <td>7</td>\n",
       "      <td>7</td>\n",
       "      <td>0</td>\n",
       "      <td>2</td>\n",
       "      <td>1</td>\n",
       "      <td>4</td>\n",
       "      <td>2</td>\n",
       "      <td>3</td>\n",
       "      <td>5</td>\n",
       "    </tr>\n",
       "    <tr>\n",
       "      <th>3</th>\n",
       "      <td>5</td>\n",
       "      <td>3</td>\n",
       "      <td>8</td>\n",
       "      <td>1</td>\n",
       "      <td>6</td>\n",
       "      <td>1</td>\n",
       "      <td>0</td>\n",
       "      <td>1</td>\n",
       "      <td>5</td>\n",
       "      <td>0</td>\n",
       "      <td>...</td>\n",
       "      <td>2</td>\n",
       "      <td>7</td>\n",
       "      <td>7</td>\n",
       "      <td>0</td>\n",
       "      <td>2</td>\n",
       "      <td>1</td>\n",
       "      <td>4</td>\n",
       "      <td>2</td>\n",
       "      <td>3</td>\n",
       "      <td>5</td>\n",
       "    </tr>\n",
       "    <tr>\n",
       "      <th>8</th>\n",
       "      <td>5</td>\n",
       "      <td>3</td>\n",
       "      <td>8</td>\n",
       "      <td>1</td>\n",
       "      <td>6</td>\n",
       "      <td>1</td>\n",
       "      <td>0</td>\n",
       "      <td>1</td>\n",
       "      <td>7</td>\n",
       "      <td>0</td>\n",
       "      <td>...</td>\n",
       "      <td>2</td>\n",
       "      <td>7</td>\n",
       "      <td>7</td>\n",
       "      <td>0</td>\n",
       "      <td>2</td>\n",
       "      <td>1</td>\n",
       "      <td>4</td>\n",
       "      <td>2</td>\n",
       "      <td>4</td>\n",
       "      <td>1</td>\n",
       "    </tr>\n",
       "    <tr>\n",
       "      <th>13</th>\n",
       "      <td>5</td>\n",
       "      <td>3</td>\n",
       "      <td>8</td>\n",
       "      <td>1</td>\n",
       "      <td>6</td>\n",
       "      <td>1</td>\n",
       "      <td>0</td>\n",
       "      <td>1</td>\n",
       "      <td>4</td>\n",
       "      <td>0</td>\n",
       "      <td>...</td>\n",
       "      <td>2</td>\n",
       "      <td>7</td>\n",
       "      <td>7</td>\n",
       "      <td>0</td>\n",
       "      <td>2</td>\n",
       "      <td>1</td>\n",
       "      <td>4</td>\n",
       "      <td>3</td>\n",
       "      <td>4</td>\n",
       "      <td>5</td>\n",
       "    </tr>\n",
       "    <tr>\n",
       "      <th>17</th>\n",
       "      <td>5</td>\n",
       "      <td>2</td>\n",
       "      <td>4</td>\n",
       "      <td>1</td>\n",
       "      <td>6</td>\n",
       "      <td>1</td>\n",
       "      <td>0</td>\n",
       "      <td>1</td>\n",
       "      <td>5</td>\n",
       "      <td>0</td>\n",
       "      <td>...</td>\n",
       "      <td>2</td>\n",
       "      <td>7</td>\n",
       "      <td>7</td>\n",
       "      <td>0</td>\n",
       "      <td>2</td>\n",
       "      <td>1</td>\n",
       "      <td>4</td>\n",
       "      <td>2</td>\n",
       "      <td>3</td>\n",
       "      <td>1</td>\n",
       "    </tr>\n",
       "  </tbody>\n",
       "</table>\n",
       "<p>5 rows × 22 columns</p>\n",
       "</div>"
      ],
      "text/plain": [
       "    cap-shape  cap-surface  cap-color  bruises  odor  gill-attachment  \\\n",
       "0           5            2          4        1     6                1   \n",
       "3           5            3          8        1     6                1   \n",
       "8           5            3          8        1     6                1   \n",
       "13          5            3          8        1     6                1   \n",
       "17          5            2          4        1     6                1   \n",
       "\n",
       "    gill-spacing  gill-size  gill-color  stalk-shape   ...     \\\n",
       "0              0          1           4            0   ...      \n",
       "3              0          1           5            0   ...      \n",
       "8              0          1           7            0   ...      \n",
       "13             0          1           4            0   ...      \n",
       "17             0          1           5            0   ...      \n",
       "\n",
       "    stalk-surface-below-ring  stalk-color-above-ring  stalk-color-below-ring  \\\n",
       "0                          2                       7                       7   \n",
       "3                          2                       7                       7   \n",
       "8                          2                       7                       7   \n",
       "13                         2                       7                       7   \n",
       "17                         2                       7                       7   \n",
       "\n",
       "    veil-type  veil-color  ring-number  ring-type  spore-print-color  \\\n",
       "0           0           2            1          4                  2   \n",
       "3           0           2            1          4                  2   \n",
       "8           0           2            1          4                  2   \n",
       "13          0           2            1          4                  3   \n",
       "17          0           2            1          4                  2   \n",
       "\n",
       "    population  habitat  \n",
       "0            3        5  \n",
       "3            3        5  \n",
       "8            4        1  \n",
       "13           4        5  \n",
       "17           3        1  \n",
       "\n",
       "[5 rows x 22 columns]"
      ]
     },
     "execution_count": 37,
     "metadata": {},
     "output_type": "execute_result"
    }
   ],
   "source": [
    "feature_encoder = LabelEncoder()\n",
    "for feat in list(X.columns):\n",
    "    X[feat] = feature_encoder.fit_transform(X[feat])\n",
    "X.head()"
   ]
  },
  {
   "cell_type": "code",
   "execution_count": 40,
   "metadata": {
    "collapsed": true
   },
   "outputs": [],
   "source": [
    "from sklearn.preprocessing import StandardScaler\n",
    "scaler = StandardScaler()\n",
    "scaler.fit(X)\n",
    "X = scaler.transform(X)"
   ]
  },
  {
   "cell_type": "code",
   "execution_count": 44,
   "metadata": {
    "collapsed": false
   },
   "outputs": [],
   "source": [
    "from sklearn.cross_validation import train_test_split\n",
    "X_train, X_test, y_train, y_test = train_test_split(X, Y, test_size=0.3, random_state=1)"
   ]
  },
  {
   "cell_type": "code",
   "execution_count": 45,
   "metadata": {
    "collapsed": false
   },
   "outputs": [
    {
     "name": "stdout",
     "output_type": "stream",
     "text": [
      "Accuracy Score:\n",
      "1.0\n"
     ]
    }
   ],
   "source": [
    "from sklearn.svm import SVC\n",
    "from sklearn import metrics\n",
    "svc=SVC() #Default hyperparameters\n",
    "svc.fit(X_train,y_train)\n",
    "y_pred=svc.predict(X_test)\n",
    "print('Accuracy Score:')\n",
    "print(metrics.accuracy_score(y_test,y_pred))"
   ]
  },
  {
   "cell_type": "code",
   "execution_count": 46,
   "metadata": {
    "collapsed": false
   },
   "outputs": [
    {
     "name": "stdout",
     "output_type": "stream",
     "text": [
      "Accuracy Score:\n",
      "0.983404255319\n"
     ]
    }
   ],
   "source": [
    "svc=SVC(kernel='linear')\n",
    "svc.fit(X_train,y_train)\n",
    "y_pred=svc.predict(X_test)\n",
    "print('Accuracy Score:')\n",
    "print(metrics.accuracy_score(y_test,y_pred))"
   ]
  },
  {
   "cell_type": "code",
   "execution_count": 47,
   "metadata": {
    "collapsed": false
   },
   "outputs": [
    {
     "name": "stdout",
     "output_type": "stream",
     "text": [
      "Accuracy Score:\n",
      "1.0\n"
     ]
    }
   ],
   "source": [
    "svc=SVC(kernel='rbf')\n",
    "svc.fit(X_train,y_train)\n",
    "y_pred=svc.predict(X_test)\n",
    "print('Accuracy Score:')\n",
    "print(metrics.accuracy_score(y_test,y_pred))"
   ]
  },
  {
   "cell_type": "code",
   "execution_count": 48,
   "metadata": {
    "collapsed": false
   },
   "outputs": [
    {
     "name": "stdout",
     "output_type": "stream",
     "text": [
      "Accuracy Score:\n",
      "1.0\n"
     ]
    }
   ],
   "source": [
    "svc=SVC(kernel='poly')\n",
    "svc.fit(X_train,y_train)\n",
    "y_pred=svc.predict(X_test)\n",
    "print('Accuracy Score:')\n",
    "print(metrics.accuracy_score(y_test,y_pred))"
   ]
  },
  {
   "cell_type": "code",
   "execution_count": 50,
   "metadata": {
    "collapsed": false
   },
   "outputs": [
    {
     "name": "stdout",
     "output_type": "stream",
     "text": [
      "[ 0.65178571  0.89158163  1.          0.99617347  0.92346939  0.85714286\n",
      "  0.99872123  0.98976982  0.93478261  0.9629156 ]\n"
     ]
    }
   ],
   "source": [
    "from sklearn.cross_validation import cross_val_score\n",
    "svc=SVC(kernel='linear')\n",
    "scores = cross_val_score(svc, X, Y, cv=10, scoring='accuracy') #cv is cross validation\n",
    "print(scores)"
   ]
  },
  {
   "cell_type": "code",
   "execution_count": 51,
   "metadata": {
    "collapsed": false
   },
   "outputs": [
    {
     "data": {
      "text/plain": [
       "0.92063423195365102"
      ]
     },
     "execution_count": 51,
     "metadata": {},
     "output_type": "execute_result"
    }
   ],
   "source": [
    "scores.mean()"
   ]
  },
  {
   "cell_type": "code",
   "execution_count": 53,
   "metadata": {
    "collapsed": false
   },
   "outputs": [
    {
     "name": "stdout",
     "output_type": "stream",
     "text": [
      "[ 0.67346939  1.          1.          1.          1.          1.          1.\n",
      "  1.          0.99488491  0.98465473]\n",
      "0.96530090297\n"
     ]
    }
   ],
   "source": [
    "svc=SVC(kernel='rbf')\n",
    "scores = cross_val_score(svc, X, Y, cv=10, scoring='accuracy') #cv is cross validation\n",
    "print(scores)\n",
    "print scores.mean()"
   ]
  },
  {
   "cell_type": "code",
   "execution_count": 54,
   "metadata": {
    "collapsed": false
   },
   "outputs": [
    {
     "name": "stdout",
     "output_type": "stream",
     "text": [
      "[ 0.67346939  1.          1.          1.          1.          1.          1.\n",
      "  1.          1.          0.98976982]\n",
      "0.966323920873\n"
     ]
    }
   ],
   "source": [
    "svc=SVC(kernel='poly')\n",
    "scores = cross_val_score(svc, X, Y, cv=10, scoring='accuracy') #cv is cross validation\n",
    "print(scores)\n",
    "print scores.mean()"
   ]
  },
  {
   "cell_type": "code",
   "execution_count": 55,
   "metadata": {
    "collapsed": false
   },
   "outputs": [
    {
     "name": "stdout",
     "output_type": "stream",
     "text": [
      "[0.92063423195365102, 0.91859047967012908, 0.92407876193955851, 0.92458896602119123, 0.92535427214364019, 0.92535427214364019, 0.92535427214364019, 0.93020284200636782, 0.93402937261861274, 0.93504978078187817, 0.93645284200636802, 0.93645284200636802, 0.93594263792473531, 0.93696304608800052, 0.93734569914922494, 0.93785590323085766, 0.93772835221044948, 0.93772835221044948, 0.93772835221044948, 0.93772835221044948, 0.93772835221044948, 0.93772835221044948, 0.93772835221044948, 0.93772835221044948, 0.93772835221044948]\n"
     ]
    }
   ],
   "source": [
    "C_range=list(range(1,26))\n",
    "acc_score=[]\n",
    "for c in C_range:\n",
    "    svc = SVC(kernel='linear', C=c)\n",
    "    scores = cross_val_score(svc, X, Y, cv=10, scoring='accuracy')\n",
    "    acc_score.append(scores.mean())\n",
    "print(acc_score)"
   ]
  },
  {
   "cell_type": "code",
   "execution_count": 58,
   "metadata": {
    "collapsed": false,
    "scrolled": true
   },
   "outputs": [
    {
     "data": {
      "image/png": "[encoded data removed]",
      "text/plain": [
       "<matplotlib.figure.Figure at 0xc2d52e8>"
      ]
     },
     "metadata": {},
     "output_type": "display_data"
    }
   ],
   "source": [
    "fig, ax = plt.subplots()\n",
    "ax.plot(C_range, acc_score)\n",
    "ax.set(xlabel = 'C parameter',\n",
    "       ylabel = 'svm accuracy')\n",
    "plt.show()"
   ]
  },
  {
   "cell_type": "code",
   "execution_count": 59,
   "metadata": {
    "collapsed": false
   },
   "outputs": [
    {
     "name": "stdout",
     "output_type": "stream",
     "text": [
      "[0.93734569914922494, 0.93734569914922494, 0.93734569914922494, 0.93734569914922494, 0.93785590323085766, 0.93785590323085766, 0.93772835221044948, 0.93772835221044948, 0.93772835221044948, 0.93772835221044948, 0.93772835221044948, 0.93772835221044948, 0.93772835221044948, 0.93772835221044948, 0.93772835221044948]\n"
     ]
    },
    {
     "data": {
      "image/png": "[encoded data removed]",
      "text/plain": [
       "<matplotlib.figure.Figure at 0xbe93208>"
      ]
     },
     "metadata": {},
     "output_type": "display_data"
    }
   ],
   "source": [
    "C_range=list(np.arange(15.5,17,0.1))\n",
    "acc_score=[]\n",
    "for c in C_range:\n",
    "    svc = SVC(kernel='linear', C=c)\n",
    "    scores = cross_val_score(svc, X, Y, cv=10, scoring='accuracy')\n",
    "    acc_score.append(scores.mean())\n",
    "print(acc_score)\n",
    "plt.plot(C_range,acc_score)\n",
    "plt.xlabel('Value of C for SVC ')\n",
    "plt.ylabel('Cross-Validated Accuracy')\n",
    "plt.xticks(np.arange(15,17.4,0.3))\n",
    "plt.show()"
   ]
  },
  {
   "cell_type": "markdown",
   "metadata": {},
   "source": [
    "# Accuracy is maximum for C = 16"
   ]
  },
  {
   "cell_type": "code",
   "execution_count": 60,
   "metadata": {
    "collapsed": false
   },
   "outputs": [
    {
     "name": "stdout",
     "output_type": "stream",
     "text": [
      "[0.89013812046557761, 0.91347734746072329, 0.93823105329088163, 0.96734693877551015, 0.98657289002557547, 0.87119532595646942, 0.6462729657080224]\n"
     ]
    }
   ],
   "source": [
    "gamma_range=[0.0001,0.001,0.01,0.1,1,10,100]\n",
    "acc_score=[]\n",
    "for g in gamma_range:\n",
    "    svc = SVC(kernel='rbf', gamma=g)\n",
    "    scores = cross_val_score(svc, X, Y, cv=10, scoring='accuracy')\n",
    "    acc_score.append(scores.mean())\n",
    "print(acc_score)"
   ]
  },
  {
   "cell_type": "code",
   "execution_count": 61,
   "metadata": {
    "collapsed": false
   },
   "outputs": [
    {
     "data": {
      "image/png": "[encoded data removed]",
      "text/plain": [
       "<matplotlib.figure.Figure at 0xc30f208>"
      ]
     },
     "metadata": {},
     "output_type": "display_data"
    }
   ],
   "source": [
    "plt.plot(gamma_range,acc_score)\n",
    "plt.xlabel('Value of gamma for SVC ')\n",
    "plt.ylabel('Cross-Validated Accuracy')\n",
    "#plt.xticks(np.arange(15,17.4,0.3))\n",
    "plt.show()"
   ]
  },
  {
   "cell_type": "code",
   "execution_count": 62,
   "metadata": {
    "collapsed": false
   },
   "outputs": [
    {
     "name": "stderr",
     "output_type": "stream",
     "text": [
      "C:\\Users\\SHADOWFAX\\Anaconda2\\lib\\site-packages\\sklearn\\svm\\base.py:85: DeprecationWarning: gamma=0.0 has been deprecated in favor of gamma='auto' as of 0.17. Backward compatibility for gamma=0.0 will be removed in 0.18\n",
      "  DeprecationWarning)\n",
      "C:\\Users\\SHADOWFAX\\Anaconda2\\lib\\site-packages\\sklearn\\svm\\base.py:85: DeprecationWarning: gamma=0.0 has been deprecated in favor of gamma='auto' as of 0.17. Backward compatibility for gamma=0.0 will be removed in 0.18\n",
      "  DeprecationWarning)\n",
      "C:\\Users\\SHADOWFAX\\Anaconda2\\lib\\site-packages\\sklearn\\svm\\base.py:85: DeprecationWarning: gamma=0.0 has been deprecated in favor of gamma='auto' as of 0.17. Backward compatibility for gamma=0.0 will be removed in 0.18\n",
      "  DeprecationWarning)\n",
      "C:\\Users\\SHADOWFAX\\Anaconda2\\lib\\site-packages\\sklearn\\svm\\base.py:85: DeprecationWarning: gamma=0.0 has been deprecated in favor of gamma='auto' as of 0.17. Backward compatibility for gamma=0.0 will be removed in 0.18\n",
      "  DeprecationWarning)\n",
      "C:\\Users\\SHADOWFAX\\Anaconda2\\lib\\site-packages\\sklearn\\svm\\base.py:85: DeprecationWarning: gamma=0.0 has been deprecated in favor of gamma='auto' as of 0.17. Backward compatibility for gamma=0.0 will be removed in 0.18\n",
      "  DeprecationWarning)\n",
      "C:\\Users\\SHADOWFAX\\Anaconda2\\lib\\site-packages\\sklearn\\svm\\base.py:85: DeprecationWarning: gamma=0.0 has been deprecated in favor of gamma='auto' as of 0.17. Backward compatibility for gamma=0.0 will be removed in 0.18\n",
      "  DeprecationWarning)\n",
      "C:\\Users\\SHADOWFAX\\Anaconda2\\lib\\site-packages\\sklearn\\svm\\base.py:85: DeprecationWarning: gamma=0.0 has been deprecated in favor of gamma='auto' as of 0.17. Backward compatibility for gamma=0.0 will be removed in 0.18\n",
      "  DeprecationWarning)\n",
      "C:\\Users\\SHADOWFAX\\Anaconda2\\lib\\site-packages\\sklearn\\svm\\base.py:85: DeprecationWarning: gamma=0.0 has been deprecated in favor of gamma='auto' as of 0.17. Backward compatibility for gamma=0.0 will be removed in 0.18\n",
      "  DeprecationWarning)\n",
      "C:\\Users\\SHADOWFAX\\Anaconda2\\lib\\site-packages\\sklearn\\svm\\base.py:85: DeprecationWarning: gamma=0.0 has been deprecated in favor of gamma='auto' as of 0.17. Backward compatibility for gamma=0.0 will be removed in 0.18\n",
      "  DeprecationWarning)\n",
      "C:\\Users\\SHADOWFAX\\Anaconda2\\lib\\site-packages\\sklearn\\svm\\base.py:85: DeprecationWarning: gamma=0.0 has been deprecated in favor of gamma='auto' as of 0.17. Backward compatibility for gamma=0.0 will be removed in 0.18\n",
      "  DeprecationWarning)\n",
      "C:\\Users\\SHADOWFAX\\Anaconda2\\lib\\site-packages\\sklearn\\svm\\base.py:85: DeprecationWarning: gamma=0.0 has been deprecated in favor of gamma='auto' as of 0.17. Backward compatibility for gamma=0.0 will be removed in 0.18\n",
      "  DeprecationWarning)\n"
     ]
    },
    {
     "name": "stdout",
     "output_type": "stream",
     "text": [
      "[0.96530090296988347, 0.96734693877551015, 0.96542878020773526, 0.96338274440210869, 0.99117908032778312, 0.98657289002557547, 0.97787723785166247, 0.96803069053708435, 0.95678075578057309, 0.95102954225168335, 0.94847395479931118, 0.94489371835690794, 0.93645512552847221, 0.92622951354454819, 0.92175968213372317, 0.91933425544130698, 0.91383716530090298, 0.90808497311968261, 0.90552938566731045, 0.90336003966804113, 0.90055098126207012, 0.8988905344746595, 0.89774094420376849, 0.89620902708909667, 0.8959539250482802]\n"
     ]
    },
    {
     "data": {
      "image/png": "[encoded data removed]",
      "text/plain": [
       "<matplotlib.figure.Figure at 0x429d940>"
      ]
     },
     "metadata": {},
     "output_type": "display_data"
    }
   ],
   "source": [
    "gamma_range=np.arange(0,5,0.2)\n",
    "acc_score=[]\n",
    "for g in gamma_range:\n",
    "    svc = SVC(kernel='rbf', gamma=g)\n",
    "    scores = cross_val_score(svc, X, Y, cv=10, scoring='accuracy')\n",
    "    acc_score.append(scores.mean())\n",
    "print(acc_score)\n",
    "plt.plot(gamma_range,acc_score)\n",
    "plt.xlabel('Value of gamma for SVC ')\n",
    "plt.ylabel('Cross-Validated Accuracy')\n",
    "plt.xticks(np.arange(0,5,0.2))\n",
    "plt.show()"
   ]
  },
  {
   "cell_type": "markdown",
   "metadata": {},
   "source": [
    "Highest Accuracy for Gamma = 0.8"
   ]
  },
  {
   "cell_type": "code",
   "execution_count": 63,
   "metadata": {
    "collapsed": false
   },
   "outputs": [
    {
     "name": "stdout",
     "output_type": "stream",
     "text": [
      "[0.96377159559475967, 0.96632392087269692, 0.96492020721332017, 0.96339220470797016, 0.96275510204081627]\n"
     ]
    }
   ],
   "source": [
    "degree=[2,3,4,5,6]\n",
    "acc_score=[]\n",
    "for d in degree:\n",
    "    svc = SVC(kernel='poly', degree=d)\n",
    "    scores = cross_val_score(svc, X, Y, cv=10, scoring='accuracy')\n",
    "    acc_score.append(scores.mean())\n",
    "print(acc_score)"
   ]
  },
  {
   "cell_type": "code",
   "execution_count": 64,
   "metadata": {
    "collapsed": false
   },
   "outputs": [
    {
     "data": {
      "text/plain": [
       "<matplotlib.text.Text at 0xc197a20>"
      ]
     },
     "execution_count": 64,
     "metadata": {},
     "output_type": "execute_result"
    },
    {
     "data": {
      "image/png": "[encoded data removed]",
      "text/plain": [
       "<matplotlib.figure.Figure at 0xc30f7b8>"
      ]
     },
     "metadata": {},
     "output_type": "display_data"
    }
   ],
   "source": [
    "import matplotlib.pyplot as plt\n",
    "%matplotlib inline\n",
    "\n",
    "degree=[2,3,4,5,6]\n",
    "\n",
    "# plot the value of C for SVM (x-axis) versus the cross-validated accuracy (y-axis)\n",
    "plt.plot(degree,acc_score,color='r')\n",
    "plt.xlabel('degrees for SVC ')\n",
    "plt.ylabel('Cross-Validated Accuracy')"
   ]
  },
  {
   "cell_type": "code",
   "execution_count": 65,
   "metadata": {
    "collapsed": false
   },
   "outputs": [
    {
     "name": "stdout",
     "output_type": "stream",
     "text": [
      "0.982978723404\n"
     ]
    }
   ],
   "source": [
    "from sklearn.svm import SVC\n",
    "svc= SVC(kernel='linear',C=16)\n",
    "svc.fit(X_train,y_train)\n",
    "y_predict=svc.predict(X_test)\n",
    "accuracy_score= metrics.accuracy_score(y_test,y_predict)\n",
    "print(accuracy_score)"
   ]
  },
  {
   "cell_type": "code",
   "execution_count": 67,
   "metadata": {
    "collapsed": false
   },
   "outputs": [
    {
     "name": "stdout",
     "output_type": "stream",
     "text": [
      "[ 0.65178571  0.89030612  0.99234694  0.9872449   0.8877551   0.85459184\n",
      "  0.99872123  0.98721228  0.92199488  0.9629156 ]\n"
     ]
    }
   ],
   "source": [
    "from sklearn.cross_validation import cross_val_score\n",
    "svc=SVC(kernel='linear',C=0.1)\n",
    "scores = cross_val_score(svc, X, Y, cv=10, scoring='accuracy')\n",
    "print(scores)"
   ]
  },
  {
   "cell_type": "code",
   "execution_count": 68,
   "metadata": {
    "collapsed": false
   },
   "outputs": [
    {
     "name": "stdout",
     "output_type": "stream",
     "text": [
      "0.913487460201\n"
     ]
    }
   ],
   "source": [
    "print scores.mean()"
   ]
  },
  {
   "cell_type": "code",
   "execution_count": 69,
   "metadata": {
    "collapsed": false
   },
   "outputs": [
    {
     "data": {
      "text/plain": [
       "1.0"
      ]
     },
     "execution_count": 69,
     "metadata": {},
     "output_type": "execute_result"
    }
   ],
   "source": [
    "from sklearn.svm import SVC\n",
    "svc= SVC(kernel='rbf',gamma=0.8)\n",
    "svc.fit(X_train,y_train)\n",
    "y_predict=svc.predict(X_test)\n",
    "metrics.accuracy_score(y_test,y_predict)"
   ]
  },
  {
   "cell_type": "code",
   "execution_count": 71,
   "metadata": {
    "collapsed": false
   },
   "outputs": [
    {
     "name": "stdout",
     "output_type": "stream",
     "text": [
      "[ 0.65178571  0.89158163  1.          0.99617347  0.92346939  0.85714286\n",
      "  0.99872123  0.98976982  0.93478261  0.9629156 ]\n",
      "0.920634231954\n"
     ]
    }
   ],
   "source": [
    "svc=SVC(kernel='linear',gamma=0.01)\n",
    "scores = cross_val_score(svc, X, Y, cv=10, scoring='accuracy')\n",
    "print(scores)\n",
    "print(scores.mean())"
   ]
  },
  {
   "cell_type": "code",
   "execution_count": 72,
   "metadata": {
    "collapsed": false
   },
   "outputs": [
    {
     "name": "stdout",
     "output_type": "stream",
     "text": [
      "1.0\n"
     ]
    }
   ],
   "source": [
    "from sklearn.svm import SVC\n",
    "svc= SVC(kernel='poly',degree=3)\n",
    "svc.fit(X_train,y_train)\n",
    "y_predict=svc.predict(X_test)\n",
    "accuracy_score= metrics.accuracy_score(y_test,y_predict)\n",
    "print(accuracy_score)"
   ]
  },
  {
   "cell_type": "code",
   "execution_count": 74,
   "metadata": {
    "collapsed": false
   },
   "outputs": [
    {
     "name": "stdout",
     "output_type": "stream",
     "text": [
      "[ 0.67346939  1.          1.          1.          1.          1.          1.\n",
      "  1.          1.          0.98976982]\n",
      "0.966323920873\n"
     ]
    }
   ],
   "source": [
    "svc=SVC(kernel='poly',degree=3)\n",
    "scores = cross_val_score(svc, X, Y, cv=10, scoring='accuracy')\n",
    "print(scores)\n",
    "print(scores.mean())"
   ]
  },
  {
   "cell_type": "code",
   "execution_count": 75,
   "metadata": {
    "collapsed": true
   },
   "outputs": [],
   "source": [
    "from sklearn.svm import SVC\n",
    "svm_model= SVC()"
   ]
  },
  {
   "cell_type": "code",
   "execution_count": 76,
   "metadata": {
    "collapsed": true
   },
   "outputs": [],
   "source": [
    "tuned_parameters = {\n",
    " 'C': (np.arange(15.5,16.5,0.1)) , 'kernel': ['linear'],\n",
    " 'C': (np.arange(15.5,16.5,0.1)) , 'gamma': [0.78,0.79,0.80,0.81,0.82], 'kernel': ['rbf'],\n",
    " 'degree': [2,3,4] ,'gamma':[0.78,0.79,0.80,0.81,0.82], 'C':(np.arange(15.5,16.5,0.1)) , 'kernel':['poly']\n",
    "                   }"
   ]
  },
  {
   "cell_type": "code",
   "execution_count": 77,
   "metadata": {
    "collapsed": true
   },
   "outputs": [],
   "source": [
    "from sklearn.grid_search import GridSearchCV\n",
    "\n",
    "model_svm = GridSearchCV(svm_model, tuned_parameters,cv=10,scoring='accuracy')"
   ]
  },
  {
   "cell_type": "code",
   "execution_count": 78,
   "metadata": {
    "collapsed": false
   },
   "outputs": [
    {
     "name": "stdout",
     "output_type": "stream",
     "text": [
      "1.0\n"
     ]
    }
   ],
   "source": [
    "model_svm.fit(X_train, y_train)\n",
    "print(model_svm.best_score_)"
   ]
  },
  {
   "cell_type": "code",
   "execution_count": 79,
   "metadata": {
    "collapsed": false
   },
   "outputs": [
    {
     "name": "stdout",
     "output_type": "stream",
     "text": [
      "[mean: 1.00000, std: 0.00000, params: {'kernel': 'poly', 'C': 15.5, 'gamma': 0.78, 'degree': 2}, mean: 1.00000, std: 0.00000, params: {'kernel': 'poly', 'C': 15.5, 'gamma': 0.79, 'degree': 2}, mean: 1.00000, std: 0.00000, params: {'kernel': 'poly', 'C': 15.5, 'gamma': 0.8, 'degree': 2}, mean: 1.00000, std: 0.00000, params: {'kernel': 'poly', 'C': 15.5, 'gamma': 0.81, 'degree': 2}, mean: 1.00000, std: 0.00000, params: {'kernel': 'poly', 'C': 15.5, 'gamma': 0.82, 'degree': 2}, mean: 1.00000, std: 0.00000, params: {'kernel': 'poly', 'C': 15.5, 'gamma': 0.78, 'degree': 3}, mean: 1.00000, std: 0.00000, params: {'kernel': 'poly', 'C': 15.5, 'gamma': 0.79, 'degree': 3}, mean: 1.00000, std: 0.00000, params: {'kernel': 'poly', 'C': 15.5, 'gamma': 0.8, 'degree': 3}, mean: 1.00000, std: 0.00000, params: {'kernel': 'poly', 'C': 15.5, 'gamma': 0.81, 'degree': 3}, mean: 1.00000, std: 0.00000, params: {'kernel': 'poly', 'C': 15.5, 'gamma': 0.82, 'degree': 3}, mean: 1.00000, std: 0.00000, params: {'kernel': 'poly', 'C': 15.5, 'gamma': 0.78, 'degree': 4}, mean: 1.00000, std: 0.00000, params: {'kernel': 'poly', 'C': 15.5, 'gamma': 0.79, 'degree': 4}, mean: 1.00000, std: 0.00000, params: {'kernel': 'poly', 'C': 15.5, 'gamma': 0.8, 'degree': 4}, mean: 1.00000, std: 0.00000, params: {'kernel': 'poly', 'C': 15.5, 'gamma': 0.81, 'degree': 4}, mean: 1.00000, std: 0.00000, params: {'kernel': 'poly', 'C': 15.5, 'gamma': 0.82, 'degree': 4}, mean: 1.00000, std: 0.00000, params: {'kernel': 'poly', 'C': 15.6, 'gamma': 0.78, 'degree': 2}, mean: 1.00000, std: 0.00000, params: {'kernel': 'poly', 'C': 15.6, 'gamma': 0.79, 'degree': 2}, mean: 1.00000, std: 0.00000, params: {'kernel': 'poly', 'C': 15.6, 'gamma': 0.8, 'degree': 2}, mean: 1.00000, std: 0.00000, params: {'kernel': 'poly', 'C': 15.6, 'gamma': 0.81, 'degree': 2}, mean: 1.00000, std: 0.00000, params: {'kernel': 'poly', 'C': 15.6, 'gamma': 0.82, 'degree': 2}, mean: 1.00000, std: 0.00000, params: {'kernel': 'poly', 'C': 15.6, 'gamma': 0.78, 'degree': 3}, mean: 1.00000, std: 0.00000, params: {'kernel': 'poly', 'C': 15.6, 'gamma': 0.79, 'degree': 3}, mean: 1.00000, std: 0.00000, params: {'kernel': 'poly', 'C': 15.6, 'gamma': 0.8, 'degree': 3}, mean: 1.00000, std: 0.00000, params: {'kernel': 'poly', 'C': 15.6, 'gamma': 0.81, 'degree': 3}, mean: 1.00000, std: 0.00000, params: {'kernel': 'poly', 'C': 15.6, 'gamma': 0.82, 'degree': 3}, mean: 1.00000, std: 0.00000, params: {'kernel': 'poly', 'C': 15.6, 'gamma': 0.78, 'degree': 4}, mean: 1.00000, std: 0.00000, params: {'kernel': 'poly', 'C': 15.6, 'gamma': 0.79, 'degree': 4}, mean: 1.00000, std: 0.00000, params: {'kernel': 'poly', 'C': 15.6, 'gamma': 0.8, 'degree': 4}, mean: 1.00000, std: 0.00000, params: {'kernel': 'poly', 'C': 15.6, 'gamma': 0.81, 'degree': 4}, mean: 1.00000, std: 0.00000, params: {'kernel': 'poly', 'C': 15.6, 'gamma': 0.82, 'degree': 4}, mean: 1.00000, std: 0.00000, params: {'kernel': 'poly', 'C': 15.699999999999999, 'gamma': 0.78, 'degree': 2}, mean: 1.00000, std: 0.00000, params: {'kernel': 'poly', 'C': 15.699999999999999, 'gamma': 0.79, 'degree': 2}, mean: 1.00000, std: 0.00000, params: {'kernel': 'poly', 'C': 15.699999999999999, 'gamma': 0.8, 'degree': 2}, mean: 1.00000, std: 0.00000, params: {'kernel': 'poly', 'C': 15.699999999999999, 'gamma': 0.81, 'degree': 2}, mean: 1.00000, std: 0.00000, params: {'kernel': 'poly', 'C': 15.699999999999999, 'gamma': 0.82, 'degree': 2}, mean: 1.00000, std: 0.00000, params: {'kernel': 'poly', 'C': 15.699999999999999, 'gamma': 0.78, 'degree': 3}, mean: 1.00000, std: 0.00000, params: {'kernel': 'poly', 'C': 15.699999999999999, 'gamma': 0.79, 'degree': 3}, mean: 1.00000, std: 0.00000, params: {'kernel': 'poly', 'C': 15.699999999999999, 'gamma': 0.8, 'degree': 3}, mean: 1.00000, std: 0.00000, params: {'kernel': 'poly', 'C': 15.699999999999999, 'gamma': 0.81, 'degree': 3}, mean: 1.00000, std: 0.00000, params: {'kernel': 'poly', 'C': 15.699999999999999, 'gamma': 0.82, 'degree': 3}, mean: 1.00000, std: 0.00000, params: {'kernel': 'poly', 'C': 15.699999999999999, 'gamma': 0.78, 'degree': 4}, mean: 1.00000, std: 0.00000, params: {'kernel': 'poly', 'C': 15.699999999999999, 'gamma': 0.79, 'degree': 4}, mean: 1.00000, std: 0.00000, params: {'kernel': 'poly', 'C': 15.699999999999999, 'gamma': 0.8, 'degree': 4}, mean: 1.00000, std: 0.00000, params: {'kernel': 'poly', 'C': 15.699999999999999, 'gamma': 0.81, 'degree': 4}, mean: 1.00000, std: 0.00000, params: {'kernel': 'poly', 'C': 15.699999999999999, 'gamma': 0.82, 'degree': 4}, mean: 1.00000, std: 0.00000, params: {'kernel': 'poly', 'C': 15.799999999999999, 'gamma': 0.78, 'degree': 2}, mean: 1.00000, std: 0.00000, params: {'kernel': 'poly', 'C': 15.799999999999999, 'gamma': 0.79, 'degree': 2}, mean: 1.00000, std: 0.00000, params: {'kernel': 'poly', 'C': 15.799999999999999, 'gamma': 0.8, 'degree': 2}, mean: 1.00000, std: 0.00000, params: {'kernel': 'poly', 'C': 15.799999999999999, 'gamma': 0.81, 'degree': 2}, mean: 1.00000, std: 0.00000, params: {'kernel': 'poly', 'C': 15.799999999999999, 'gamma': 0.82, 'degree': 2}, mean: 1.00000, std: 0.00000, params: {'kernel': 'poly', 'C': 15.799999999999999, 'gamma': 0.78, 'degree': 3}, mean: 1.00000, std: 0.00000, params: {'kernel': 'poly', 'C': 15.799999999999999, 'gamma': 0.79, 'degree': 3}, mean: 1.00000, std: 0.00000, params: {'kernel': 'poly', 'C': 15.799999999999999, 'gamma': 0.8, 'degree': 3}, mean: 1.00000, std: 0.00000, params: {'kernel': 'poly', 'C': 15.799999999999999, 'gamma': 0.81, 'degree': 3}, mean: 1.00000, std: 0.00000, params: {'kernel': 'poly', 'C': 15.799999999999999, 'gamma': 0.82, 'degree': 3}, mean: 1.00000, std: 0.00000, params: {'kernel': 'poly', 'C': 15.799999999999999, 'gamma': 0.78, 'degree': 4}, mean: 1.00000, std: 0.00000, params: {'kernel': 'poly', 'C': 15.799999999999999, 'gamma': 0.79, 'degree': 4}, mean: 1.00000, std: 0.00000, params: {'kernel': 'poly', 'C': 15.799999999999999, 'gamma': 0.8, 'degree': 4}, mean: 1.00000, std: 0.00000, params: {'kernel': 'poly', 'C': 15.799999999999999, 'gamma': 0.81, 'degree': 4}, mean: 1.00000, std: 0.00000, params: {'kernel': 'poly', 'C': 15.799999999999999, 'gamma': 0.82, 'degree': 4}, mean: 1.00000, std: 0.00000, params: {'kernel': 'poly', 'C': 15.899999999999999, 'gamma': 0.78, 'degree': 2}, mean: 1.00000, std: 0.00000, params: {'kernel': 'poly', 'C': 15.899999999999999, 'gamma': 0.79, 'degree': 2}, mean: 1.00000, std: 0.00000, params: {'kernel': 'poly', 'C': 15.899999999999999, 'gamma': 0.8, 'degree': 2}, mean: 1.00000, std: 0.00000, params: {'kernel': 'poly', 'C': 15.899999999999999, 'gamma': 0.81, 'degree': 2}, mean: 1.00000, std: 0.00000, params: {'kernel': 'poly', 'C': 15.899999999999999, 'gamma': 0.82, 'degree': 2}, mean: 1.00000, std: 0.00000, params: {'kernel': 'poly', 'C': 15.899999999999999, 'gamma': 0.78, 'degree': 3}, mean: 1.00000, std: 0.00000, params: {'kernel': 'poly', 'C': 15.899999999999999, 'gamma': 0.79, 'degree': 3}, mean: 1.00000, std: 0.00000, params: {'kernel': 'poly', 'C': 15.899999999999999, 'gamma': 0.8, 'degree': 3}, mean: 1.00000, std: 0.00000, params: {'kernel': 'poly', 'C': 15.899999999999999, 'gamma': 0.81, 'degree': 3}, mean: 1.00000, std: 0.00000, params: {'kernel': 'poly', 'C': 15.899999999999999, 'gamma': 0.82, 'degree': 3}, mean: 1.00000, std: 0.00000, params: {'kernel': 'poly', 'C': 15.899999999999999, 'gamma': 0.78, 'degree': 4}, mean: 1.00000, std: 0.00000, params: {'kernel': 'poly', 'C': 15.899999999999999, 'gamma': 0.79, 'degree': 4}, mean: 1.00000, std: 0.00000, params: {'kernel': 'poly', 'C': 15.899999999999999, 'gamma': 0.8, 'degree': 4}, mean: 1.00000, std: 0.00000, params: {'kernel': 'poly', 'C': 15.899999999999999, 'gamma': 0.81, 'degree': 4}, mean: 1.00000, std: 0.00000, params: {'kernel': 'poly', 'C': 15.899999999999999, 'gamma': 0.82, 'degree': 4}, mean: 1.00000, std: 0.00000, params: {'kernel': 'poly', 'C': 15.999999999999998, 'gamma': 0.78, 'degree': 2}, mean: 1.00000, std: 0.00000, params: {'kernel': 'poly', 'C': 15.999999999999998, 'gamma': 0.79, 'degree': 2}, mean: 1.00000, std: 0.00000, params: {'kernel': 'poly', 'C': 15.999999999999998, 'gamma': 0.8, 'degree': 2}, mean: 1.00000, std: 0.00000, params: {'kernel': 'poly', 'C': 15.999999999999998, 'gamma': 0.81, 'degree': 2}, mean: 1.00000, std: 0.00000, params: {'kernel': 'poly', 'C': 15.999999999999998, 'gamma': 0.82, 'degree': 2}, mean: 1.00000, std: 0.00000, params: {'kernel': 'poly', 'C': 15.999999999999998, 'gamma': 0.78, 'degree': 3}, mean: 1.00000, std: 0.00000, params: {'kernel': 'poly', 'C': 15.999999999999998, 'gamma': 0.79, 'degree': 3}, mean: 1.00000, std: 0.00000, params: {'kernel': 'poly', 'C': 15.999999999999998, 'gamma': 0.8, 'degree': 3}, mean: 1.00000, std: 0.00000, params: {'kernel': 'poly', 'C': 15.999999999999998, 'gamma': 0.81, 'degree': 3}, mean: 1.00000, std: 0.00000, params: {'kernel': 'poly', 'C': 15.999999999999998, 'gamma': 0.82, 'degree': 3}, mean: 1.00000, std: 0.00000, params: {'kernel': 'poly', 'C': 15.999999999999998, 'gamma': 0.78, 'degree': 4}, mean: 1.00000, std: 0.00000, params: {'kernel': 'poly', 'C': 15.999999999999998, 'gamma': 0.79, 'degree': 4}, mean: 1.00000, std: 0.00000, params: {'kernel': 'poly', 'C': 15.999999999999998, 'gamma': 0.8, 'degree': 4}, mean: 1.00000, std: 0.00000, params: {'kernel': 'poly', 'C': 15.999999999999998, 'gamma': 0.81, 'degree': 4}, mean: 1.00000, std: 0.00000, params: {'kernel': 'poly', 'C': 15.999999999999998, 'gamma': 0.82, 'degree': 4}, mean: 1.00000, std: 0.00000, params: {'kernel': 'poly', 'C': 16.099999999999998, 'gamma': 0.78, 'degree': 2}, mean: 1.00000, std: 0.00000, params: {'kernel': 'poly', 'C': 16.099999999999998, 'gamma': 0.79, 'degree': 2}, mean: 1.00000, std: 0.00000, params: {'kernel': 'poly', 'C': 16.099999999999998, 'gamma': 0.8, 'degree': 2}, mean: 1.00000, std: 0.00000, params: {'kernel': 'poly', 'C': 16.099999999999998, 'gamma': 0.81, 'degree': 2}, mean: 1.00000, std: 0.00000, params: {'kernel': 'poly', 'C': 16.099999999999998, 'gamma': 0.82, 'degree': 2}, mean: 1.00000, std: 0.00000, params: {'kernel': 'poly', 'C': 16.099999999999998, 'gamma': 0.78, 'degree': 3}, mean: 1.00000, std: 0.00000, params: {'kernel': 'poly', 'C': 16.099999999999998, 'gamma': 0.79, 'degree': 3}, mean: 1.00000, std: 0.00000, params: {'kernel': 'poly', 'C': 16.099999999999998, 'gamma': 0.8, 'degree': 3}, mean: 1.00000, std: 0.00000, params: {'kernel': 'poly', 'C': 16.099999999999998, 'gamma': 0.81, 'degree': 3}, mean: 1.00000, std: 0.00000, params: {'kernel': 'poly', 'C': 16.099999999999998, 'gamma': 0.82, 'degree': 3}, mean: 1.00000, std: 0.00000, params: {'kernel': 'poly', 'C': 16.099999999999998, 'gamma': 0.78, 'degree': 4}, mean: 1.00000, std: 0.00000, params: {'kernel': 'poly', 'C': 16.099999999999998, 'gamma': 0.79, 'degree': 4}, mean: 1.00000, std: 0.00000, params: {'kernel': 'poly', 'C': 16.099999999999998, 'gamma': 0.8, 'degree': 4}, mean: 1.00000, std: 0.00000, params: {'kernel': 'poly', 'C': 16.099999999999998, 'gamma': 0.81, 'degree': 4}, mean: 1.00000, std: 0.00000, params: {'kernel': 'poly', 'C': 16.099999999999998, 'gamma': 0.82, 'degree': 4}, mean: 1.00000, std: 0.00000, params: {'kernel': 'poly', 'C': 16.199999999999996, 'gamma': 0.78, 'degree': 2}, mean: 1.00000, std: 0.00000, params: {'kernel': 'poly', 'C': 16.199999999999996, 'gamma': 0.79, 'degree': 2}, mean: 1.00000, std: 0.00000, params: {'kernel': 'poly', 'C': 16.199999999999996, 'gamma': 0.8, 'degree': 2}, mean: 1.00000, std: 0.00000, params: {'kernel': 'poly', 'C': 16.199999999999996, 'gamma': 0.81, 'degree': 2}, mean: 1.00000, std: 0.00000, params: {'kernel': 'poly', 'C': 16.199999999999996, 'gamma': 0.82, 'degree': 2}, mean: 1.00000, std: 0.00000, params: {'kernel': 'poly', 'C': 16.199999999999996, 'gamma': 0.78, 'degree': 3}, mean: 1.00000, std: 0.00000, params: {'kernel': 'poly', 'C': 16.199999999999996, 'gamma': 0.79, 'degree': 3}, mean: 1.00000, std: 0.00000, params: {'kernel': 'poly', 'C': 16.199999999999996, 'gamma': 0.8, 'degree': 3}, mean: 1.00000, std: 0.00000, params: {'kernel': 'poly', 'C': 16.199999999999996, 'gamma': 0.81, 'degree': 3}, mean: 1.00000, std: 0.00000, params: {'kernel': 'poly', 'C': 16.199999999999996, 'gamma': 0.82, 'degree': 3}, mean: 1.00000, std: 0.00000, params: {'kernel': 'poly', 'C': 16.199999999999996, 'gamma': 0.78, 'degree': 4}, mean: 1.00000, std: 0.00000, params: {'kernel': 'poly', 'C': 16.199999999999996, 'gamma': 0.79, 'degree': 4}, mean: 1.00000, std: 0.00000, params: {'kernel': 'poly', 'C': 16.199999999999996, 'gamma': 0.8, 'degree': 4}, mean: 1.00000, std: 0.00000, params: {'kernel': 'poly', 'C': 16.199999999999996, 'gamma': 0.81, 'degree': 4}, mean: 1.00000, std: 0.00000, params: {'kernel': 'poly', 'C': 16.199999999999996, 'gamma': 0.82, 'degree': 4}, mean: 1.00000, std: 0.00000, params: {'kernel': 'poly', 'C': 16.299999999999997, 'gamma': 0.78, 'degree': 2}, mean: 1.00000, std: 0.00000, params: {'kernel': 'poly', 'C': 16.299999999999997, 'gamma': 0.79, 'degree': 2}, mean: 1.00000, std: 0.00000, params: {'kernel': 'poly', 'C': 16.299999999999997, 'gamma': 0.8, 'degree': 2}, mean: 1.00000, std: 0.00000, params: {'kernel': 'poly', 'C': 16.299999999999997, 'gamma': 0.81, 'degree': 2}, mean: 1.00000, std: 0.00000, params: {'kernel': 'poly', 'C': 16.299999999999997, 'gamma': 0.82, 'degree': 2}, mean: 1.00000, std: 0.00000, params: {'kernel': 'poly', 'C': 16.299999999999997, 'gamma': 0.78, 'degree': 3}, mean: 1.00000, std: 0.00000, params: {'kernel': 'poly', 'C': 16.299999999999997, 'gamma': 0.79, 'degree': 3}, mean: 1.00000, std: 0.00000, params: {'kernel': 'poly', 'C': 16.299999999999997, 'gamma': 0.8, 'degree': 3}, mean: 1.00000, std: 0.00000, params: {'kernel': 'poly', 'C': 16.299999999999997, 'gamma': 0.81, 'degree': 3}, mean: 1.00000, std: 0.00000, params: {'kernel': 'poly', 'C': 16.299999999999997, 'gamma': 0.82, 'degree': 3}, mean: 1.00000, std: 0.00000, params: {'kernel': 'poly', 'C': 16.299999999999997, 'gamma': 0.78, 'degree': 4}, mean: 1.00000, std: 0.00000, params: {'kernel': 'poly', 'C': 16.299999999999997, 'gamma': 0.79, 'degree': 4}, mean: 1.00000, std: 0.00000, params: {'kernel': 'poly', 'C': 16.299999999999997, 'gamma': 0.8, 'degree': 4}, mean: 1.00000, std: 0.00000, params: {'kernel': 'poly', 'C': 16.299999999999997, 'gamma': 0.81, 'degree': 4}, mean: 1.00000, std: 0.00000, params: {'kernel': 'poly', 'C': 16.299999999999997, 'gamma': 0.82, 'degree': 4}, mean: 1.00000, std: 0.00000, params: {'kernel': 'poly', 'C': 16.399999999999999, 'gamma': 0.78, 'degree': 2}, mean: 1.00000, std: 0.00000, params: {'kernel': 'poly', 'C': 16.399999999999999, 'gamma': 0.79, 'degree': 2}, mean: 1.00000, std: 0.00000, params: {'kernel': 'poly', 'C': 16.399999999999999, 'gamma': 0.8, 'degree': 2}, mean: 1.00000, std: 0.00000, params: {'kernel': 'poly', 'C': 16.399999999999999, 'gamma': 0.81, 'degree': 2}, mean: 1.00000, std: 0.00000, params: {'kernel': 'poly', 'C': 16.399999999999999, 'gamma': 0.82, 'degree': 2}, mean: 1.00000, std: 0.00000, params: {'kernel': 'poly', 'C': 16.399999999999999, 'gamma': 0.78, 'degree': 3}, mean: 1.00000, std: 0.00000, params: {'kernel': 'poly', 'C': 16.399999999999999, 'gamma': 0.79, 'degree': 3}, mean: 1.00000, std: 0.00000, params: {'kernel': 'poly', 'C': 16.399999999999999, 'gamma': 0.8, 'degree': 3}, mean: 1.00000, std: 0.00000, params: {'kernel': 'poly', 'C': 16.399999999999999, 'gamma': 0.81, 'degree': 3}, mean: 1.00000, std: 0.00000, params: {'kernel': 'poly', 'C': 16.399999999999999, 'gamma': 0.82, 'degree': 3}, mean: 1.00000, std: 0.00000, params: {'kernel': 'poly', 'C': 16.399999999999999, 'gamma': 0.78, 'degree': 4}, mean: 1.00000, std: 0.00000, params: {'kernel': 'poly', 'C': 16.399999999999999, 'gamma': 0.79, 'degree': 4}, mean: 1.00000, std: 0.00000, params: {'kernel': 'poly', 'C': 16.399999999999999, 'gamma': 0.8, 'degree': 4}, mean: 1.00000, std: 0.00000, params: {'kernel': 'poly', 'C': 16.399999999999999, 'gamma': 0.81, 'degree': 4}, mean: 1.00000, std: 0.00000, params: {'kernel': 'poly', 'C': 16.399999999999999, 'gamma': 0.82, 'degree': 4}]\n"
     ]
    }
   ],
   "source": [
    "print(model_svm.grid_scores_)"
   ]
  },
  {
   "cell_type": "code",
   "execution_count": 80,
   "metadata": {
    "collapsed": false
   },
   "outputs": [
    {
     "name": "stdout",
     "output_type": "stream",
     "text": [
      "{'kernel': 'poly', 'C': 15.5, 'gamma': 0.78, 'degree': 2}\n"
     ]
    }
   ],
   "source": [
    "print(model_svm.best_params_)"
   ]
  },
  {
   "cell_type": "code",
   "execution_count": 81,
   "metadata": {
    "collapsed": false
   },
   "outputs": [
    {
     "name": "stdout",
     "output_type": "stream",
     "text": [
      "1.0\n"
     ]
    }
   ],
   "source": [
    "y_pred= model_svm.predict(X_test)\n",
    "print(metrics.accuracy_score(y_pred,y_test))"
   ]
  },
  {
   "cell_type": "code",
   "execution_count": null,
   "metadata": {
    "collapsed": true
   },
   "outputs": [],
   "source": []
  }
 ],
 "metadata": {
  "kernelspec": {
   "display_name": "Python 2",
   "language": "python",
   "name": "python2"
  },
  "language_info": {
   "codemirror_mode": {
    "name": "ipython",
    "version": 2
   },
   "file_extension": ".py",
   "mimetype": "text/x-python",
   "name": "python",
   "nbconvert_exporter": "python",
   "pygments_lexer": "ipython2",
   "version": "2.7.13"
  }
 },
 "nbformat": 4,
 "nbformat_minor": 0
}
